{
 "cells": [
  {
   "cell_type": "code",
   "execution_count": 1,
   "metadata": {},
   "outputs": [],
   "source": [
    "import matplotlib.pyplot as plt\n",
    "import random"
   ]
  },
  {
   "cell_type": "code",
   "execution_count": 2,
   "metadata": {},
   "outputs": [],
   "source": [
    "import pickle\n",
    "\n",
    "def save_data_with_pickle(relative_path, data):\n",
    "    \"\"\" Save data using pickle (serialize) \"\"\"\n",
    "\n",
    "    with open(relative_path, 'wb') as handle:\n",
    "        pickle.dump(data, handle, protocol=pickle.HIGHEST_PROTOCOL)\n",
    "        \n",
    "def load_data_with_pickle(relative_path):\n",
    "    \"\"\" Load data using pickle (deserialize) \"\"\"\n",
    "\n",
    "    with open(relative_path, 'rb') as handle:\n",
    "        return pickle.load(handle)"
   ]
  },
  {
   "cell_type": "markdown",
   "metadata": {},
   "source": [
    "### Load Dataset"
   ]
  },
  {
   "cell_type": "code",
   "execution_count": 3,
   "metadata": {},
   "outputs": [],
   "source": [
    "dataset = load_data_with_pickle('/datahdd/vmanuel/datasets/word_and_composite_dataset')"
   ]
  },
  {
   "cell_type": "markdown",
   "metadata": {},
   "source": [
    "### Create DBpedia Direct Graph"
   ]
  },
  {
   "cell_type": "code",
   "execution_count": 4,
   "metadata": {},
   "outputs": [],
   "source": [
    "import networkx as nx\n",
    "\n",
    "G = nx.DiGraph()\n",
    "\n",
    "with open('/datahdd/vmanuel/datasets/dbpedia_edgelist_no_closure.tsv') as inp:\n",
    "    lines = inp.readlines()\n",
    "    for line in lines:\n",
    "        line = line.replace('\\n', '')\n",
    "        couple = [c.lower() for c in line.split(' ')]\n",
    "        if not G.has_node(couple[0]):\n",
    "            G.add_node(couple[0])\n",
    "        if not G.has_node(couple[1]):\n",
    "            G.add_node(couple[1])\n",
    "        G.add_edge(couple[0], couple[1])\n"
   ]
  },
  {
   "cell_type": "code",
   "execution_count": 8,
   "metadata": {},
   "outputs": [],
   "source": [
    "reverse_dataset = {}\n",
    "\n",
    "for k, words in dataset.items():\n",
    "    for w in words:\n",
    "        try:\n",
    "            reverse_dataset[w].append(k)\n",
    "        except:\n",
    "            reverse_dataset[w] = [k]"
   ]
  },
  {
   "cell_type": "code",
   "execution_count": 9,
   "metadata": {},
   "outputs": [
    {
     "data": {
      "text/plain": [
       "0"
      ]
     },
     "execution_count": 9,
     "metadata": {},
     "output_type": "execute_result"
    }
   ],
   "source": [
    "i = 0\n",
    "for r in reverse_dataset.values():\n",
    "    if len(r) > 1:\n",
    "        i += 1\n",
    "        print(r)\n",
    "i"
   ]
  },
  {
   "cell_type": "code",
   "execution_count": 7,
   "metadata": {},
   "outputs": [],
   "source": [
    "for k, v in reverse_dataset.items():\n",
    "    if len(v) > 1:\n",
    "        min_dist = 100\n",
    "        for clas in v:\n",
    "            d = nx.shortest_path_length(G, 'thing', clas.lower())\n",
    "            if d < min_dist:\n",
    "                min_dist = d\n",
    "                min_k = clas.lower()\n",
    "            if d == min_dist:\n",
    "                x = random.random()\n",
    "                if x > 0.5:\n",
    "                    min_dist = d\n",
    "                    min_k = clas.lower()\n",
    "        for clas in v:\n",
    "            if clas != min_k:\n",
    "                dataset[clas].remove(k)\n"
   ]
  },
  {
   "cell_type": "code",
   "execution_count": 10,
   "metadata": {},
   "outputs": [],
   "source": [
    "save_data_with_pickle('/datahdd/vmanuel/datasets/minimal_type_dataset', dataset)"
   ]
  },
  {
   "cell_type": "code",
   "execution_count": null,
   "metadata": {},
   "outputs": [],
   "source": []
  }
 ],
 "metadata": {
  "kernelspec": {
   "display_name": "Python 3",
   "language": "python",
   "name": "python3"
  },
  "language_info": {
   "codemirror_mode": {
    "name": "ipython",
    "version": 3
   },
   "file_extension": ".py",
   "mimetype": "text/x-python",
   "name": "python",
   "nbconvert_exporter": "python",
   "pygments_lexer": "ipython3",
   "version": "3.6.7"
  }
 },
 "nbformat": 4,
 "nbformat_minor": 2
}
