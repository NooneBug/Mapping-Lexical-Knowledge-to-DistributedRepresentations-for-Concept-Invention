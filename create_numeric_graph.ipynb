{
 "cells": [
  {
   "cell_type": "code",
   "execution_count": 40,
   "metadata": {},
   "outputs": [],
   "source": [
    "import networkx as nx"
   ]
  },
  {
   "cell_type": "code",
   "execution_count": 41,
   "metadata": {},
   "outputs": [],
   "source": [
    "with open('./dbpedia_edgelist_no_closure.tsv') as tsv:\n",
    "    lines = tsv.readlines()\n",
    "    lines = [l.replace('\\n', '') for l in lines]\n",
    "    dbpedia_edges = [l.split(' ') for l in lines]\n",
    "    types = list(set([sublist for d in dbpedia_edges for sublist in d]))\n",
    "    db_direct_edge_dict = {}\n",
    "\n",
    "    for k in types:\n",
    "        db_direct_edge_dict[k] = []\n",
    "        for couple in dbpedia_edges:\n",
    "            if k == couple[0]:\n",
    "                db_direct_edge_dict[k].append(couple[1])"
   ]
  },
  {
   "cell_type": "code",
   "execution_count": 42,
   "metadata": {},
   "outputs": [],
   "source": [
    "G = nx.DiGraph()"
   ]
  },
  {
   "cell_type": "code",
   "execution_count": 43,
   "metadata": {},
   "outputs": [],
   "source": [
    "for k in db_direct_edge_dict.keys():\n",
    "    if not G.has_node(k):\n",
    "        G.add_node(k)\n",
    "    for n in db_direct_edge_dict[k]:\n",
    "        if not G.has_node(n):\n",
    "            G.add_node(n)\n",
    "        G.add_edge(k, n)"
   ]
  },
  {
   "cell_type": "code",
   "execution_count": 44,
   "metadata": {},
   "outputs": [],
   "source": [
    "dic = {}\n",
    "i = 0\n",
    "\n",
    "for n in list(nx.breadth_first_search.bfs_tree(G, 'Thing')):\n",
    "    dic[n] = i\n",
    "    i += 1\n",
    "\n",
    "inv_dic = {str(v): k for k, v in dic.items()}   \n",
    "    \n",
    "with open ('./numeric_dbpedia_edgelist', 'w') as out:\n",
    "    for line in dbpedia_edges:\n",
    "        out.write('{} {}\\n'.format(dic[line[0]],\n",
    "                                  dic[line[1]]))\n",
    "        \n"
   ]
  },
  {
   "cell_type": "code",
   "execution_count": 46,
   "metadata": {},
   "outputs": [],
   "source": [
    "import pickle\n",
    "\n",
    "def save_data_with_pickle(relative_path, data):\n",
    "    \"\"\" Save data using pickle (serialize) \"\"\"\n",
    "\n",
    "    with open(relative_path, 'wb') as handle:\n",
    "        pickle.dump(data, handle, protocol=pickle.HIGHEST_PROTOCOL)\n",
    "\n",
    "\n",
    "def load_data_with_pickle(relative_path):\n",
    "    \"\"\" Load data using pickle (deserialize) \"\"\"\n",
    "\n",
    "    with open(relative_path, 'rb') as handle:\n",
    "        return pickle.load(handle)"
   ]
  },
  {
   "cell_type": "code",
   "execution_count": 45,
   "metadata": {},
   "outputs": [
    {
     "data": {
      "text/plain": [
       "0"
      ]
     },
     "execution_count": 45,
     "metadata": {},
     "output_type": "execute_result"
    }
   ],
   "source": [
    "dic['Thing']"
   ]
  },
  {
   "cell_type": "code",
   "execution_count": 47,
   "metadata": {},
   "outputs": [],
   "source": [
    "save_data_with_pickle('./dic', dic)\n",
    "save_data_with_pickle('./inv_dic', inv_dic)"
   ]
  },
  {
   "cell_type": "code",
   "execution_count": null,
   "metadata": {},
   "outputs": [],
   "source": []
  }
 ],
 "metadata": {
  "kernelspec": {
   "display_name": "Python 3",
   "language": "python",
   "name": "python3"
  },
  "language_info": {
   "codemirror_mode": {
    "name": "ipython",
    "version": 3
   },
   "file_extension": ".py",
   "mimetype": "text/x-python",
   "name": "python",
   "nbconvert_exporter": "python",
   "pygments_lexer": "ipython3",
   "version": "3.6.7"
  }
 },
 "nbformat": 4,
 "nbformat_minor": 2
}
