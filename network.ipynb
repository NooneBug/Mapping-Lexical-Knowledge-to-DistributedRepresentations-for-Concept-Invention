{
 "cells": [
  {
   "cell_type": "code",
   "execution_count": 50,
   "metadata": {},
   "outputs": [],
   "source": [
    "# #word2vec imports\n",
    "# from gensim.models import Word2Vec\n",
    "\n",
    "# #hyperbolic imports\n",
    "# import torch\n",
    "# import tensorflow as tf\n",
    "# # from tensorflow import keras\n",
    "\n",
    "# from numpy.linalg import norm\n",
    "# from sklearn.metrics import pairwise_distances\n",
    "# from scipy.spatial.distance import cdist\n",
    "\n",
    "# # sparQL imports\n",
    "# from SPARQLWrapper import SPARQLWrapper, JSON\n",
    "\n",
    "# # ML imports\n",
    "# import keras\n",
    "# from keras.models import Model\n",
    "# from keras.layers import *    \n",
    "# from keras import backend as K\n",
    "# from keras.callbacks import EarlyStopping\n",
    "\n",
    "# # from tensorflow import keras\n",
    "\n",
    "# # Confusion Matrix imports\n",
    "# import matplotlib.pyplot as plt\n",
    "# from sklearn.metrics import confusion_matrix\n",
    "# from sklearn.metrics import pairwise_distances\n",
    "# from sklearn.metrics import accuracy_score, precision_score, recall_score, f1_score\n",
    "\n",
    "\n",
    "# #utility imports\n",
    "# import os\n",
    "# import warnings\n",
    "# import random\n",
    "# import itertools\n",
    "# from operator import itemgetter\n",
    "# from collections import Counter\n",
    "# from IPython.display import clear_output\n",
    "# import time\n",
    "\n",
    "# #data analysis imports\n",
    "# from sklearn.ensemble import RandomForestClassifier\n",
    "# from sklearn.metrics import silhouette_score\n",
    "# from sklearn.decomposition import PCA\n",
    "# import matplotlib.patches as mpatches\n",
    "# from collections import Counter\n",
    "# import pandas as pd\n",
    "# import seaborn as sns\n",
    "# import time\n",
    "# from scipy import stats\n",
    "\n",
    "\n",
    "# # FUNCTIONS\n",
    "# from mixed_regression_functions import *\n",
    "\n",
    "# # warnings.filterwarnings('ignore')\n",
    "# # os.environ[\"CUDA_VISIBLE_DEVICES\"] = \"-1\"\n"
   ]
  },
  {
   "cell_type": "code",
   "execution_count": 1,
   "metadata": {},
   "outputs": [],
   "source": [
    "import pickle\n",
    "\n",
    "def save_data_with_pickle(relative_path, data):\n",
    "    \"\"\" Save data using pickle (serialize) \"\"\"\n",
    "\n",
    "    with open(relative_path, 'wb') as handle:\n",
    "        pickle.dump(data, handle, protocol=pickle.HIGHEST_PROTOCOL)\n",
    "        \n",
    "def load_data_with_pickle(relative_path):\n",
    "    \"\"\" Load data using pickle (deserialize) \"\"\"\n",
    "\n",
    "    with open(relative_path, 'rb') as handle:\n",
    "        return pickle.load(handle)"
   ]
  },
  {
   "cell_type": "code",
   "execution_count": 2,
   "metadata": {},
   "outputs": [],
   "source": [
    "import numpy as np\n",
    "\n",
    "\n",
    "def import_stanford_hyperbolic(PATH):\n",
    "    dic = load_data_with_pickle('./dic')\n",
    "    inv_dic = load_data_with_pickle('./inv_dic')\n",
    "    with open(PATH, 'r') as inp:\n",
    "        lines = inp.readlines()\n",
    "        lines = lines[1:]\n",
    "        lines = [l.replace('\\n','') for l in lines]\n",
    "        tau = float(lines[0].split(',')[-1])\n",
    "        stanford_emb = {inv_dic[l.split(',')[0]]: np.array(l.split(',')[1:-1]).astype('float64') for l in lines}\n",
    "    return stanford_emb, tau"
   ]
  },
  {
   "cell_type": "code",
   "execution_count": 3,
   "metadata": {},
   "outputs": [],
   "source": [
    "# PATH\n",
    "HYPERBOLIC_EMBEDDING_PATH = \"/datahdd/vmanuel/hyperbolic_embedding_algorithms/HyperE-Stanford/hyperbolics/dbpedia.r2.emb\"\n",
    "TYPE_EMBEDDING_PATH = \"/datahdd/vmanuel/datasets/t2v.bin\""
   ]
  },
  {
   "cell_type": "code",
   "execution_count": 4,
   "metadata": {},
   "outputs": [],
   "source": [
    "from gensim.models import Word2Vec\n",
    "\n",
    "hyperbolic_embedding = import_stanford_hyperbolic(HYPERBOLIC_EMBEDDING_PATH)[0]\n",
    "type_embedding = Word2Vec.load(TYPE_EMBEDDING_PATH)"
   ]
  },
  {
   "cell_type": "markdown",
   "metadata": {},
   "source": [
    "## Import datas"
   ]
  },
  {
   "cell_type": "code",
   "execution_count": 5,
   "metadata": {},
   "outputs": [],
   "source": [
    "PATH_TO_DATA_FOLDER = '/datahdd/vmanuel/datasets/elmo_layer_1/17_classes/'\n",
    "\n",
    "X_train = load_data_with_pickle(PATH_TO_DATA_FOLDER + 'X_train')\n",
    "Y_train = load_data_with_pickle(PATH_TO_DATA_FOLDER + 'Y_train')\n",
    "word_train = load_data_with_pickle(PATH_TO_DATA_FOLDER + 'word_train')\n",
    "X_test = load_data_with_pickle(PATH_TO_DATA_FOLDER + 'X_test')\n",
    "Y_test = load_data_with_pickle(PATH_TO_DATA_FOLDER + 'Y_test')\n",
    "word_test = load_data_with_pickle(PATH_TO_DATA_FOLDER + 'word_test')\n",
    "X_val = load_data_with_pickle(PATH_TO_DATA_FOLDER + 'X_val')\n",
    "Y_val = load_data_with_pickle(PATH_TO_DATA_FOLDER + 'Y_val')\n",
    "word_val = load_data_with_pickle(PATH_TO_DATA_FOLDER + 'word_val')"
   ]
  },
  {
   "cell_type": "code",
   "execution_count": 6,
   "metadata": {},
   "outputs": [
    {
     "data": {
      "text/plain": [
       "151112"
      ]
     },
     "execution_count": 6,
     "metadata": {},
     "output_type": "execute_result"
    }
   ],
   "source": [
    "len(X_test) + len(X_train) + len(X_val)"
   ]
  },
  {
   "cell_type": "code",
   "execution_count": 7,
   "metadata": {},
   "outputs": [
    {
     "name": "stdout",
     "output_type": "stream",
     "text": [
      "            Train             |             Val              |             Test             \n",
      "------------------------------|------------------------------|------------------------------\n",
      "         Company         36820|        Language         3195 |          Plant          1685 \n",
      "        Language         16506|         Company         2453 |         Company         1598 \n",
      "          Plant          14655|         Mammal          1602 |         Mammal          1565 \n",
      "         Colour          8331 |          Plant          1128 |        Language         1523 \n",
      "         Mammal          8303 |   FictionalCharacter     913 |          Sport          1486 \n",
      "   FictionalCharacter    8188 |       EthnicGroup        882 |   FictionalCharacter     797 \n",
      "       EthnicGroup       6626 |         Colour           631 |       EthnicGroup        784 \n",
      " ArchitecturalStructure  6186 | ArchitecturalStructure   599 | ArchitecturalStructure   557 \n",
      "         Planet          4245 |         Weapon           402 |          Award           318 \n",
      "          Sport          3785 |         Artist           333 |         Artist           316 \n",
      "         Artist          2796 |          Award           267 |        Scientist         199 \n",
      "         Weapon          2290 |        Scientist         187 |         Weapon           155 \n",
      "          Award          2263 |       SportsTeam         150 |       SportsTeam         136 \n",
      "        Scientist        2215 |         Insect           122 |         Planet           122 \n",
      "          Bird           1825 |          Sport           96  |         Insect           110 \n",
      "         Insect           857 |          Bird            54  |          Bird            85  \n",
      "       SportsTeam         716 |         Planet           22  |         Colour           33  \n"
     ]
    }
   ],
   "source": [
    "from collections import Counter\n",
    "\n",
    "Tr = Counter(Y_train).most_common()\n",
    "Te = Counter(Y_test).most_common()\n",
    "Va = Counter(Y_val).most_common()\n",
    "\n",
    "print('{:^30}|{:^30}|{:^30}'.format('Train','Val', 'Test'))\n",
    "print('{:-^30}|{:-^30}|{:-^30}'.format('', '', ''))\n",
    "\n",
    "for x, y, z in zip(Tr, Te, Va):\n",
    "    print('{:^25}{:^5}|{:^25}{:^5}|{:^25}{:^5}'.format(x[0], x[1], y[0], y[1], z[0], z[1]))"
   ]
  },
  {
   "cell_type": "markdown",
   "metadata": {},
   "source": [
    "### Dataset Creation"
   ]
  },
  {
   "cell_type": "code",
   "execution_count": 8,
   "metadata": {},
   "outputs": [],
   "source": [
    "y_t2v_train = []\n",
    "y_t2v_test = []\n",
    "y_hyp_train = []\n",
    "y_hyp_test = []\n",
    "y_t2v_val = []\n",
    "y_hyp_val = []\n",
    "not_present = []\n",
    "\n",
    "for label in Y_train:\n",
    "    try:\n",
    "        y_t2v_train.append(type_embedding.wv[label])\n",
    "        y_hyp_train.append(hyperbolic_embedding[label])\n",
    "#     y_hyp_train.append(scaled_hyperbolic_embedding[label][0])\n",
    "    except:\n",
    "        if label not in not_present:\n",
    "            not_present.append(label)\n",
    "\n",
    "            \n",
    "for label in Y_val:\n",
    "    try:\n",
    "        y_t2v_val.append(type_embedding.wv[label])\n",
    "        y_hyp_val.append(hyperbolic_embedding[label])\n",
    "    except:\n",
    "        if label not in not_present:\n",
    "            not_present.append(label)\n",
    "\n",
    "for label in Y_test:\n",
    "    try:\n",
    "        y_t2v_test.append(type_embedding.wv[label])\n",
    "        y_hyp_test.append(hyperbolic_embedding[label])\n",
    "#     y_hyp_train.append(scaled_hyperbolic_embedding[label][0])\n",
    "    except:\n",
    "        if label not in not_present:\n",
    "            not_present.append(label)\n",
    "\n",
    "y_t2v_val = np.array(y_t2v_val)\n",
    "y_t2v_test = np.array(y_t2v_test)\n",
    "y_t2v_train = np.array(y_t2v_train)\n",
    "y_hyp_val = np.array(y_hyp_val)\n",
    "y_hyp_test = np.array(y_hyp_test)\n",
    "y_hyp_train = np.array(y_hyp_train)"
   ]
  },
  {
   "cell_type": "code",
   "execution_count": 9,
   "metadata": {},
   "outputs": [
    {
     "data": {
      "text/plain": [
       "[]"
      ]
     },
     "execution_count": 9,
     "metadata": {},
     "output_type": "execute_result"
    }
   ],
   "source": [
    "not_present"
   ]
  },
  {
   "cell_type": "markdown",
   "metadata": {},
   "source": [
    "## Define the Network"
   ]
  },
  {
   "cell_type": "code",
   "execution_count": 10,
   "metadata": {},
   "outputs": [
    {
     "name": "stderr",
     "output_type": "stream",
     "text": [
      "Using TensorFlow backend.\n"
     ]
    }
   ],
   "source": [
    "from keras.layers import *    \n",
    "\n",
    "def make_network(input_dimension = 0, mixed_dimension = 100):\n",
    "    if input_dimension == 0:\n",
    "        input_dimension = word_embedding.wv.vector_size\n",
    "    type_embedding_dimension = type_embedding.wv.vector_size\n",
    "    hyper_embedding_dimension = 2\n",
    "    \n",
    "    inp = Input(shape=(input_dimension, ))\n",
    "    mixed = Dense(int(mixed_dimension * 2), activation = \"tanh\")(inp)\n",
    "    droppy = Dropout(rate=0.3)(mixed)\n",
    "    mixed = Dense(mixed_dimension, activation = \"tanh\")(droppy)\n",
    "    droppy = Dropout(rate=0.3)(mixed)\n",
    "    mixed = Dense(int(mixed_dimension/2), activation = \"tanh\")(mixed)\n",
    "    droppy = Dropout(rate=0.3)(mixed)\n",
    "\n",
    "    hyperbolic_embedding_layer = Dense(hyper_embedding_dimension, name='Hyper')(mixed)\n",
    "\n",
    "    type_embedding_layer = Dense(type_embedding_dimension, name='T2V')(mixed)\n",
    "    \n",
    "    return inp, mixed, hyperbolic_embedding_layer, type_embedding_layer"
   ]
  },
  {
   "cell_type": "markdown",
   "metadata": {},
   "source": [
    "### Define the hyperbolic loss, the one in the paper"
   ]
  },
  {
   "cell_type": "code",
   "execution_count": 11,
   "metadata": {},
   "outputs": [],
   "source": [
    "def hyperbolic_loss(y_true, y_pred):\n",
    "\n",
    "        num = 2  *  tf.norm(y_true - y_pred, axis = 1)\n",
    "        n = tf.norm(y_pred, axis = 1)**2\n",
    "        densx = (1 - n)\n",
    "        dendx = (1 - tf.norm(y_true, axis = 1)**2)\n",
    "        \n",
    "        densx = tf.clip_by_value(densx,\n",
    "                                   clip_value_min=1e-18,\n",
    "                                   clip_value_max=1)\n",
    "        dendx = tf.clip_by_value(dendx,\n",
    "                                   clip_value_min=1e-15,\n",
    "                                   clip_value_max=1)\n",
    "        \n",
    "        denom = densx * dendx\n",
    "\n",
    "        \n",
    "        frac = num/denom\n",
    "        acos = tf.math.acosh(1  + frac)\n",
    "\n",
    "        intern_circle_distance = tf.norm(y_pred) - 0.8\n",
    "        \n",
    "        ret = tf.where(tf.logical_and(intern_circle_distance > 0,\n",
    "                                      intern_circle_distance < 0.2),\n",
    "                        acos,\n",
    "                        acos*4)        \n",
    "        return tf.reduce_mean(ret)\n",
    "        "
   ]
  },
  {
   "cell_type": "markdown",
   "metadata": {},
   "source": [
    "### Define the cosine loss with weight"
   ]
  },
  {
   "cell_type": "code",
   "execution_count": 12,
   "metadata": {},
   "outputs": [],
   "source": [
    "def cosine_loss(y_true, y_pred):\n",
    "    return keras.losses.cosine_proximity(y_true=y_true, y_pred=y_pred) * 10"
   ]
  },
  {
   "cell_type": "markdown",
   "metadata": {},
   "source": [
    "## Train the Model"
   ]
  },
  {
   "cell_type": "code",
   "execution_count": 13,
   "metadata": {},
   "outputs": [
    {
     "name": "stdout",
     "output_type": "stream",
     "text": [
      "WARNING:tensorflow:From /home/vmanuel/venv/lib/python3.6/site-packages/tensorflow/python/framework/op_def_library.py:263: colocate_with (from tensorflow.python.framework.ops) is deprecated and will be removed in a future version.\n",
      "Instructions for updating:\n",
      "Colocations handled automatically by placer.\n",
      "WARNING:tensorflow:From /home/vmanuel/venv/lib/python3.6/site-packages/keras/backend/tensorflow_backend.py:3445: calling dropout (from tensorflow.python.ops.nn_ops) with keep_prob is deprecated and will be removed in a future version.\n",
      "Instructions for updating:\n",
      "Please use `rate` instead of `keep_prob`. Rate should be set to `rate = 1 - keep_prob`.\n",
      "WARNING:tensorflow:From /home/vmanuel/venv/lib/python3.6/site-packages/tensorflow/python/ops/math_ops.py:3066: to_int32 (from tensorflow.python.ops.math_ops) is deprecated and will be removed in a future version.\n",
      "Instructions for updating:\n",
      "Use tf.cast instead.\n"
     ]
    },
    {
     "name": "stderr",
     "output_type": "stream",
     "text": [
      "/home/vmanuel/venv/lib/python3.6/site-packages/ipykernel_launcher.py:16: UserWarning: Update your `Model` call to the Keras 2 API: `Model(inputs=Tensor(\"in..., outputs=[<tf.Tenso...)`\n",
      "  app.launch_new_instance()\n"
     ]
    },
    {
     "name": "stdout",
     "output_type": "stream",
     "text": [
      "Train on 126607 samples, validate on 11469 samples\n",
      "Epoch 1/200\n",
      "126607/126607 [==============================] - 3s 21us/step - loss: 55.7640 - T2V_loss: -0.7026 - Hyper_loss: 56.4666 - val_loss: 42.1282 - val_T2V_loss: -1.9358 - val_Hyper_loss: 44.0640\n",
      "Epoch 2/200\n",
      "126607/126607 [==============================] - 2s 17us/step - loss: 41.5219 - T2V_loss: -2.9201 - Hyper_loss: 44.4420 - val_loss: 39.5925 - val_T2V_loss: -3.5721 - val_Hyper_loss: 43.1646\n",
      "Epoch 3/200\n",
      "126607/126607 [==============================] - 2s 16us/step - loss: 37.9810 - T2V_loss: -4.3079 - Hyper_loss: 42.2890 - val_loss: 38.7015 - val_T2V_loss: -4.1551 - val_Hyper_loss: 42.8567\n",
      "Epoch 4/200\n",
      "126607/126607 [==============================] - 3s 20us/step - loss: 36.8443 - T2V_loss: -4.9354 - Hyper_loss: 41.7797 - val_loss: 38.3346 - val_T2V_loss: -4.3920 - val_Hyper_loss: 42.7266\n",
      "Epoch 5/200\n",
      "126607/126607 [==============================] - 2s 17us/step - loss: 36.4783 - T2V_loss: -5.3074 - Hyper_loss: 41.7857 - val_loss: 38.2746 - val_T2V_loss: -4.5366 - val_Hyper_loss: 42.8112\n",
      "Epoch 6/200\n",
      "126607/126607 [==============================] - 2s 17us/step - loss: 36.2578 - T2V_loss: -5.5979 - Hyper_loss: 41.8557 - val_loss: 38.2062 - val_T2V_loss: -4.6875 - val_Hyper_loss: 42.8937\n",
      "Epoch 7/200\n",
      "126607/126607 [==============================] - 3s 21us/step - loss: 35.9428 - T2V_loss: -5.8707 - Hyper_loss: 41.8135 - val_loss: 37.7536 - val_T2V_loss: -4.8068 - val_Hyper_loss: 42.5603\n",
      "Epoch 8/200\n",
      "126607/126607 [==============================] - 2s 18us/step - loss: 35.3308 - T2V_loss: -6.1222 - Hyper_loss: 41.4530 - val_loss: 37.5464 - val_T2V_loss: -4.9433 - val_Hyper_loss: 42.4897\n",
      "Epoch 9/200\n",
      "126607/126607 [==============================] - 2s 18us/step - loss: 34.7791 - T2V_loss: -6.3437 - Hyper_loss: 41.1227 - val_loss: 37.3795 - val_T2V_loss: -5.0912 - val_Hyper_loss: 42.4707\n",
      "Epoch 10/200\n",
      "126607/126607 [==============================] - 2s 18us/step - loss: 34.4654 - T2V_loss: -6.5412 - Hyper_loss: 41.0066 - val_loss: 37.1609 - val_T2V_loss: -5.2260 - val_Hyper_loss: 42.3869\n",
      "Epoch 11/200\n",
      "126607/126607 [==============================] - 2s 17us/step - loss: 34.2348 - T2V_loss: -6.7180 - Hyper_loss: 40.9528 - val_loss: 37.0326 - val_T2V_loss: -5.3480 - val_Hyper_loss: 42.3805\n",
      "Epoch 12/200\n",
      "126607/126607 [==============================] - 2s 16us/step - loss: 34.0703 - T2V_loss: -6.8703 - Hyper_loss: 40.9406 - val_loss: 36.8784 - val_T2V_loss: -5.4889 - val_Hyper_loss: 42.3672\n",
      "Epoch 13/200\n",
      "126607/126607 [==============================] - 2s 16us/step - loss: 33.8269 - T2V_loss: -7.0059 - Hyper_loss: 40.8328 - val_loss: 36.7011 - val_T2V_loss: -5.6097 - val_Hyper_loss: 42.3108\n",
      "Epoch 14/200\n",
      "126607/126607 [==============================] - 2s 18us/step - loss: 33.6643 - T2V_loss: -7.1311 - Hyper_loss: 40.7954 - val_loss: 36.5639 - val_T2V_loss: -5.7220 - val_Hyper_loss: 42.2860\n",
      "Epoch 15/200\n",
      "126607/126607 [==============================] - 2s 17us/step - loss: 33.6653 - T2V_loss: -7.2314 - Hyper_loss: 40.8967 - val_loss: 36.4692 - val_T2V_loss: -5.8278 - val_Hyper_loss: 42.2970\n",
      "Epoch 16/200\n",
      "126607/126607 [==============================] - 2s 18us/step - loss: 33.3729 - T2V_loss: -7.3316 - Hyper_loss: 40.7044 - val_loss: 36.3266 - val_T2V_loss: -5.9339 - val_Hyper_loss: 42.2606\n",
      "Epoch 17/200\n",
      "126607/126607 [==============================] - 2s 16us/step - loss: 33.3622 - T2V_loss: -7.4188 - Hyper_loss: 40.7810 - val_loss: 36.2364 - val_T2V_loss: -6.0191 - val_Hyper_loss: 42.2555\n",
      "Epoch 18/200\n",
      "126607/126607 [==============================] - 2s 16us/step - loss: 33.1685 - T2V_loss: -7.5061 - Hyper_loss: 40.6746 - val_loss: 36.1470 - val_T2V_loss: -6.1130 - val_Hyper_loss: 42.2600\n",
      "Epoch 19/200\n",
      "126607/126607 [==============================] - 2s 17us/step - loss: 33.0843 - T2V_loss: -7.5839 - Hyper_loss: 40.6682 - val_loss: 36.0824 - val_T2V_loss: -6.1918 - val_Hyper_loss: 42.2742\n",
      "Epoch 20/200\n",
      "126607/126607 [==============================] - 2s 17us/step - loss: 32.9350 - T2V_loss: -7.6581 - Hyper_loss: 40.5931 - val_loss: 35.9692 - val_T2V_loss: -6.2665 - val_Hyper_loss: 42.2357\n",
      "Epoch 21/200\n",
      "126607/126607 [==============================] - 2s 16us/step - loss: 32.8623 - T2V_loss: -7.7263 - Hyper_loss: 40.5885 - val_loss: 35.8563 - val_T2V_loss: -6.3498 - val_Hyper_loss: 42.2061\n",
      "Epoch 22/200\n",
      "126607/126607 [==============================] - 2s 18us/step - loss: 32.7509 - T2V_loss: -7.7844 - Hyper_loss: 40.5353 - val_loss: 35.7827 - val_T2V_loss: -6.4175 - val_Hyper_loss: 42.2002\n",
      "Epoch 23/200\n",
      "126607/126607 [==============================] - 2s 17us/step - loss: 32.6578 - T2V_loss: -7.8421 - Hyper_loss: 40.4999 - val_loss: 35.7683 - val_T2V_loss: -6.4714 - val_Hyper_loss: 42.2397\n",
      "Epoch 24/200\n",
      "126607/126607 [==============================] - 2s 16us/step - loss: 32.6221 - T2V_loss: -7.8936 - Hyper_loss: 40.5157 - val_loss: 35.7112 - val_T2V_loss: -6.5295 - val_Hyper_loss: 42.2407\n",
      "Epoch 25/200\n",
      "126607/126607 [==============================] - 2s 17us/step - loss: 32.5565 - T2V_loss: -7.9411 - Hyper_loss: 40.4976 - val_loss: 35.5862 - val_T2V_loss: -6.5821 - val_Hyper_loss: 42.1682\n",
      "Epoch 26/200\n",
      "126607/126607 [==============================] - 2s 16us/step - loss: 33.0050 - T2V_loss: -7.9590 - Hyper_loss: 40.9640 - val_loss: 35.5603 - val_T2V_loss: -6.6058 - val_Hyper_loss: 42.1660\n",
      "Epoch 27/200\n",
      "126607/126607 [==============================] - 2s 17us/step - loss: 32.5800 - T2V_loss: -8.0051 - Hyper_loss: 40.5851 - val_loss: 35.5438 - val_T2V_loss: -6.6214 - val_Hyper_loss: 42.1651\n",
      "Epoch 28/200\n",
      "126607/126607 [==============================] - 2s 18us/step - loss: 32.4251 - T2V_loss: -8.0493 - Hyper_loss: 40.4745 - val_loss: 35.5548 - val_T2V_loss: -6.6574 - val_Hyper_loss: 42.2122\n",
      "Epoch 29/200\n",
      "126607/126607 [==============================] - 2s 18us/step - loss: 32.3731 - T2V_loss: -8.0877 - Hyper_loss: 40.4608 - val_loss: 35.4552 - val_T2V_loss: -6.6863 - val_Hyper_loss: 42.1415\n",
      "Epoch 30/200\n",
      "126607/126607 [==============================] - 2s 16us/step - loss: 32.4720 - T2V_loss: -8.1165 - Hyper_loss: 40.5885 - val_loss: 35.4126 - val_T2V_loss: -6.7269 - val_Hyper_loss: 42.1394\n",
      "Epoch 31/200\n",
      "126607/126607 [==============================] - 2s 16us/step - loss: 32.3500 - T2V_loss: -8.1490 - Hyper_loss: 40.4989 - val_loss: 35.8793 - val_T2V_loss: -6.7298 - val_Hyper_loss: 42.6091\n",
      "Epoch 32/200\n",
      "126607/126607 [==============================] - 2s 16us/step - loss: 32.3110 - T2V_loss: -8.1751 - Hyper_loss: 40.4862 - val_loss: 35.3930 - val_T2V_loss: -6.7627 - val_Hyper_loss: 42.1557\n",
      "Epoch 33/200\n",
      "126607/126607 [==============================] - 2s 18us/step - loss: 32.1728 - T2V_loss: -8.2099 - Hyper_loss: 40.3826 - val_loss: 35.4314 - val_T2V_loss: -6.8054 - val_Hyper_loss: 42.2368\n",
      "Epoch 34/200\n",
      "126607/126607 [==============================] - 2s 18us/step - loss: 32.1190 - T2V_loss: -8.2381 - Hyper_loss: 40.3571 - val_loss: 35.3426 - val_T2V_loss: -6.8266 - val_Hyper_loss: 42.1693\n",
      "Epoch 35/200\n",
      "126607/126607 [==============================] - 2s 17us/step - loss: 32.0572 - T2V_loss: -8.2630 - Hyper_loss: 40.3202 - val_loss: 35.2109 - val_T2V_loss: -6.8598 - val_Hyper_loss: 42.0707\n",
      "Epoch 36/200\n",
      "126607/126607 [==============================] - 3s 20us/step - loss: 32.0830 - T2V_loss: -8.2878 - Hyper_loss: 40.3709 - val_loss: 35.2105 - val_T2V_loss: -6.8736 - val_Hyper_loss: 42.0841\n",
      "Epoch 37/200\n",
      "126607/126607 [==============================] - 2s 17us/step - loss: 31.9943 - T2V_loss: -8.3140 - Hyper_loss: 40.3083 - val_loss: 35.2332 - val_T2V_loss: -6.8933 - val_Hyper_loss: 42.1265\n",
      "Epoch 38/200\n",
      "126607/126607 [==============================] - 2s 18us/step - loss: 31.9345 - T2V_loss: -8.3373 - Hyper_loss: 40.2717 - val_loss: 35.3307 - val_T2V_loss: -6.9280 - val_Hyper_loss: 42.2587\n",
      "Epoch 39/200\n",
      "126607/126607 [==============================] - 2s 18us/step - loss: 31.9381 - T2V_loss: -8.3596 - Hyper_loss: 40.2977 - val_loss: 35.1782 - val_T2V_loss: -6.9074 - val_Hyper_loss: 42.0857\n",
      "Epoch 40/200\n",
      "126607/126607 [==============================] - 2s 17us/step - loss: 31.8882 - T2V_loss: -8.3808 - Hyper_loss: 40.2690 - val_loss: 35.1353 - val_T2V_loss: -6.9515 - val_Hyper_loss: 42.0868\n",
      "Epoch 41/200\n",
      "126607/126607 [==============================] - 2s 16us/step - loss: 31.8194 - T2V_loss: -8.4038 - Hyper_loss: 40.2232 - val_loss: 35.1127 - val_T2V_loss: -6.9652 - val_Hyper_loss: 42.0780\n",
      "Epoch 42/200\n",
      "126607/126607 [==============================] - 2s 17us/step - loss: 31.8342 - T2V_loss: -8.4199 - Hyper_loss: 40.2542 - val_loss: 35.0180 - val_T2V_loss: -6.9835 - val_Hyper_loss: 42.0015\n",
      "Epoch 43/200\n",
      "126607/126607 [==============================] - 2s 17us/step - loss: 33.0943 - T2V_loss: -8.4110 - Hyper_loss: 41.5053 - val_loss: 36.8002 - val_T2V_loss: -6.8090 - val_Hyper_loss: 43.6091\n",
      "Epoch 44/200\n",
      "126607/126607 [==============================] - 2s 17us/step - loss: 32.5394 - T2V_loss: -8.3559 - Hyper_loss: 40.8953 - val_loss: 35.2886 - val_T2V_loss: -6.9637 - val_Hyper_loss: 42.2523\n",
      "Epoch 45/200\n",
      "126607/126607 [==============================] - 2s 17us/step - loss: 32.1853 - T2V_loss: -8.3911 - Hyper_loss: 40.5764 - val_loss: 35.1226 - val_T2V_loss: -6.9746 - val_Hyper_loss: 42.0972\n",
      "Epoch 46/200\n",
      "126607/126607 [==============================] - 2s 19us/step - loss: 32.0153 - T2V_loss: -8.4137 - Hyper_loss: 40.4290 - val_loss: 35.0791 - val_T2V_loss: -6.9942 - val_Hyper_loss: 42.0733\n",
      "Epoch 47/200\n",
      "126607/126607 [==============================] - 2s 18us/step - loss: 31.9659 - T2V_loss: -8.4301 - Hyper_loss: 40.3960 - val_loss: 35.0599 - val_T2V_loss: -6.9932 - val_Hyper_loss: 42.0531\n",
      "Epoch 48/200\n",
      "126607/126607 [==============================] - 2s 17us/step - loss: 32.0097 - T2V_loss: -8.4406 - Hyper_loss: 40.4502 - val_loss: 35.1683 - val_T2V_loss: -7.0258 - val_Hyper_loss: 42.1941\n",
      "Epoch 49/200\n",
      "126607/126607 [==============================] - 2s 17us/step - loss: 31.8943 - T2V_loss: -8.4540 - Hyper_loss: 40.3483 - val_loss: 35.0485 - val_T2V_loss: -7.0248 - val_Hyper_loss: 42.0734\n",
      "Epoch 50/200\n",
      "126607/126607 [==============================] - 2s 17us/step - loss: 31.8574 - T2V_loss: -8.4708 - Hyper_loss: 40.3282 - val_loss: 35.0602 - val_T2V_loss: -7.0324 - val_Hyper_loss: 42.0926\n",
      "Epoch 51/200\n",
      "126607/126607 [==============================] - 2s 17us/step - loss: 31.7977 - T2V_loss: -8.4868 - Hyper_loss: 40.2844 - val_loss: 35.0976 - val_T2V_loss: -7.0426 - val_Hyper_loss: 42.1403\n",
      "Epoch 52/200\n",
      "126607/126607 [==============================] - 2s 17us/step - loss: 31.7498 - T2V_loss: -8.5034 - Hyper_loss: 40.2532 - val_loss: 34.9820 - val_T2V_loss: -7.0403 - val_Hyper_loss: 42.0223\n",
      "Epoch 53/200\n",
      "126607/126607 [==============================] - 2s 17us/step - loss: 31.7135 - T2V_loss: -8.5133 - Hyper_loss: 40.2267 - val_loss: 35.0101 - val_T2V_loss: -7.0589 - val_Hyper_loss: 42.0690\n",
      "Epoch 54/200\n",
      "126607/126607 [==============================] - 2s 17us/step - loss: 31.7842 - T2V_loss: -8.5203 - Hyper_loss: 40.3045 - val_loss: 34.9327 - val_T2V_loss: -7.0670 - val_Hyper_loss: 41.9998\n",
      "Epoch 55/200\n",
      "126607/126607 [==============================] - 2s 17us/step - loss: 31.7006 - T2V_loss: -8.5348 - Hyper_loss: 40.2354 - val_loss: 34.9253 - val_T2V_loss: -7.0730 - val_Hyper_loss: 41.9983\n",
      "Epoch 56/200\n",
      "126607/126607 [==============================] - 2s 17us/step - loss: 31.6620 - T2V_loss: -8.5506 - Hyper_loss: 40.2126 - val_loss: 34.9280 - val_T2V_loss: -7.0769 - val_Hyper_loss: 42.0048\n",
      "Epoch 57/200\n",
      "126607/126607 [==============================] - 2s 17us/step - loss: 31.6201 - T2V_loss: -8.5616 - Hyper_loss: 40.1817 - val_loss: 34.9068 - val_T2V_loss: -7.0898 - val_Hyper_loss: 41.9966\n",
      "Epoch 58/200\n",
      "126607/126607 [==============================] - 2s 16us/step - loss: 31.5946 - T2V_loss: -8.5732 - Hyper_loss: 40.1678 - val_loss: 34.8913 - val_T2V_loss: -7.1006 - val_Hyper_loss: 41.9919\n",
      "Epoch 59/200\n",
      "126607/126607 [==============================] - 2s 17us/step - loss: 31.5778 - T2V_loss: -8.5881 - Hyper_loss: 40.1660 - val_loss: 34.8875 - val_T2V_loss: -7.1056 - val_Hyper_loss: 41.9930\n",
      "Epoch 60/200\n",
      "126607/126607 [==============================] - 2s 17us/step - loss: 31.5558 - T2V_loss: -8.5987 - Hyper_loss: 40.1545 - val_loss: 34.8956 - val_T2V_loss: -7.1127 - val_Hyper_loss: 42.0083\n",
      "Epoch 61/200\n",
      "126607/126607 [==============================] - 2s 18us/step - loss: 31.5445 - T2V_loss: -8.6074 - Hyper_loss: 40.1519 - val_loss: 34.8657 - val_T2V_loss: -7.1305 - val_Hyper_loss: 41.9962\n",
      "Epoch 62/200\n",
      "126607/126607 [==============================] - 2s 18us/step - loss: 31.7321 - T2V_loss: -8.6084 - Hyper_loss: 40.3405 - val_loss: 34.9863 - val_T2V_loss: -7.1208 - val_Hyper_loss: 42.1071\n",
      "Epoch 63/200\n",
      "126607/126607 [==============================] - 2s 17us/step - loss: 31.5499 - T2V_loss: -8.6228 - Hyper_loss: 40.1726 - val_loss: 34.8276 - val_T2V_loss: -7.1357 - val_Hyper_loss: 41.9633\n",
      "Epoch 64/200\n",
      "126607/126607 [==============================] - 2s 17us/step - loss: 31.4963 - T2V_loss: -8.6354 - Hyper_loss: 40.1317 - val_loss: 34.8081 - val_T2V_loss: -7.1539 - val_Hyper_loss: 41.9620\n",
      "Epoch 65/200\n",
      "126607/126607 [==============================] - 2s 16us/step - loss: 31.4608 - T2V_loss: -8.6466 - Hyper_loss: 40.1074 - val_loss: 34.8024 - val_T2V_loss: -7.1565 - val_Hyper_loss: 41.9589\n",
      "Epoch 66/200\n",
      "126607/126607 [==============================] - 2s 17us/step - loss: 31.4459 - T2V_loss: -8.6585 - Hyper_loss: 40.1044 - val_loss: 34.8064 - val_T2V_loss: -7.1572 - val_Hyper_loss: 41.9636\n",
      "Epoch 67/200\n",
      "126607/126607 [==============================] - 2s 17us/step - loss: 31.4296 - T2V_loss: -8.6687 - Hyper_loss: 40.0983 - val_loss: 34.8146 - val_T2V_loss: -7.1693 - val_Hyper_loss: 41.9838\n",
      "Epoch 68/200\n",
      "126607/126607 [==============================] - 2s 17us/step - loss: 31.4103 - T2V_loss: -8.6798 - Hyper_loss: 40.0901 - val_loss: 34.8086 - val_T2V_loss: -7.1672 - val_Hyper_loss: 41.9759\n",
      "Epoch 69/200\n",
      "126607/126607 [==============================] - 2s 19us/step - loss: 31.3723 - T2V_loss: -8.6905 - Hyper_loss: 40.0627 - val_loss: 34.7806 - val_T2V_loss: -7.1822 - val_Hyper_loss: 41.9628\n",
      "Epoch 70/200\n",
      "126607/126607 [==============================] - 2s 17us/step - loss: 31.3356 - T2V_loss: -8.7030 - Hyper_loss: 40.0386 - val_loss: 34.7629 - val_T2V_loss: -7.1857 - val_Hyper_loss: 41.9486\n",
      "Epoch 71/200\n",
      "126607/126607 [==============================] - 2s 17us/step - loss: 32.2300 - T2V_loss: -8.6850 - Hyper_loss: 40.9150 - val_loss: 35.3668 - val_T2V_loss: -7.1331 - val_Hyper_loss: 42.4998\n",
      "Epoch 72/200\n",
      "126607/126607 [==============================] - 2s 17us/step - loss: 31.7981 - T2V_loss: -8.6682 - Hyper_loss: 40.4663 - val_loss: 34.9648 - val_T2V_loss: -7.1683 - val_Hyper_loss: 42.1331\n",
      "Epoch 73/200\n",
      "126607/126607 [==============================] - 2s 17us/step - loss: 31.5692 - T2V_loss: -8.6915 - Hyper_loss: 40.2607 - val_loss: 34.8685 - val_T2V_loss: -7.1891 - val_Hyper_loss: 42.0576\n",
      "Epoch 74/200\n",
      "126607/126607 [==============================] - 2s 18us/step - loss: 31.4529 - T2V_loss: -8.7067 - Hyper_loss: 40.1596 - val_loss: 34.8294 - val_T2V_loss: -7.1968 - val_Hyper_loss: 42.0262\n",
      "Epoch 75/200\n",
      "126607/126607 [==============================] - 2s 18us/step - loss: 31.3924 - T2V_loss: -8.7199 - Hyper_loss: 40.1123 - val_loss: 34.7989 - val_T2V_loss: -7.2048 - val_Hyper_loss: 42.0036\n",
      "Epoch 76/200\n",
      "126607/126607 [==============================] - 2s 18us/step - loss: 32.6125 - T2V_loss: -8.6849 - Hyper_loss: 41.2974 - val_loss: 34.9344 - val_T2V_loss: -7.2063 - val_Hyper_loss: 42.1407\n",
      "Epoch 77/200\n",
      "126607/126607 [==============================] - 2s 18us/step - loss: 31.6252 - T2V_loss: -8.7080 - Hyper_loss: 40.3332 - val_loss: 34.8069 - val_T2V_loss: -7.1990 - val_Hyper_loss: 42.0058\n",
      "Epoch 78/200\n",
      "126607/126607 [==============================] - 2s 19us/step - loss: 31.4651 - T2V_loss: -8.7237 - Hyper_loss: 40.1887 - val_loss: 34.7557 - val_T2V_loss: -7.2196 - val_Hyper_loss: 41.9753\n",
      "Epoch 79/200\n",
      "126607/126607 [==============================] - 2s 17us/step - loss: 31.3806 - T2V_loss: -8.7395 - Hyper_loss: 40.1202 - val_loss: 34.7308 - val_T2V_loss: -7.2256 - val_Hyper_loss: 41.9564\n",
      "Epoch 80/200\n",
      "126607/126607 [==============================] - 2s 17us/step - loss: 31.3284 - T2V_loss: -8.7514 - Hyper_loss: 40.0798 - val_loss: 34.7216 - val_T2V_loss: -7.2401 - val_Hyper_loss: 41.9617\n",
      "Epoch 81/200\n",
      "126607/126607 [==============================] - 2s 17us/step - loss: 31.3064 - T2V_loss: -8.7619 - Hyper_loss: 40.0683 - val_loss: 34.6800 - val_T2V_loss: -7.2590 - val_Hyper_loss: 41.9389\n",
      "Epoch 82/200\n",
      "126607/126607 [==============================] - 2s 17us/step - loss: 31.2746 - T2V_loss: -8.7725 - Hyper_loss: 40.0470 - val_loss: 34.6629 - val_T2V_loss: -7.2583 - val_Hyper_loss: 41.9212\n",
      "Epoch 83/200\n",
      "126607/126607 [==============================] - 2s 17us/step - loss: 31.3318 - T2V_loss: -8.7785 - Hyper_loss: 40.1103 - val_loss: 34.7737 - val_T2V_loss: -7.2702 - val_Hyper_loss: 42.0438\n",
      "Epoch 84/200\n",
      "126607/126607 [==============================] - 2s 17us/step - loss: 31.2603 - T2V_loss: -8.7859 - Hyper_loss: 40.0463 - val_loss: 34.6841 - val_T2V_loss: -7.2847 - val_Hyper_loss: 41.9688\n",
      "Epoch 85/200\n",
      "126607/126607 [==============================] - 2s 17us/step - loss: 31.2514 - T2V_loss: -8.7968 - Hyper_loss: 40.0482 - val_loss: 34.6710 - val_T2V_loss: -7.2879 - val_Hyper_loss: 41.9590\n",
      "Epoch 86/200\n",
      "126607/126607 [==============================] - 2s 17us/step - loss: 31.2530 - T2V_loss: -8.8068 - Hyper_loss: 40.0598 - val_loss: 34.6773 - val_T2V_loss: -7.2978 - val_Hyper_loss: 41.9751\n",
      "Epoch 87/200\n",
      "126607/126607 [==============================] - 2s 16us/step - loss: 31.1983 - T2V_loss: -8.8145 - Hyper_loss: 40.0128 - val_loss: 34.7054 - val_T2V_loss: -7.2992 - val_Hyper_loss: 42.0046\n",
      "Epoch 88/200\n",
      "126607/126607 [==============================] - 2s 17us/step - loss: 31.2140 - T2V_loss: -8.8226 - Hyper_loss: 40.0366 - val_loss: 34.6575 - val_T2V_loss: -7.3073 - val_Hyper_loss: 41.9648\n",
      "Epoch 89/200\n",
      "126607/126607 [==============================] - 2s 17us/step - loss: 31.1632 - T2V_loss: -8.8329 - Hyper_loss: 39.9961 - val_loss: 34.6290 - val_T2V_loss: -7.3219 - val_Hyper_loss: 41.9509\n",
      "Epoch 90/200\n",
      "126607/126607 [==============================] - 2s 18us/step - loss: 31.1376 - T2V_loss: -8.8430 - Hyper_loss: 39.9806 - val_loss: 34.6022 - val_T2V_loss: -7.3220 - val_Hyper_loss: 41.9242\n",
      "Epoch 91/200\n",
      "126607/126607 [==============================] - 2s 17us/step - loss: 31.1752 - T2V_loss: -8.8508 - Hyper_loss: 40.0260 - val_loss: 34.6063 - val_T2V_loss: -7.3240 - val_Hyper_loss: 41.9303\n",
      "Epoch 92/200\n",
      "126607/126607 [==============================] - 2s 17us/step - loss: 32.3067 - T2V_loss: -8.8230 - Hyper_loss: 41.1297 - val_loss: 34.8925 - val_T2V_loss: -7.3077 - val_Hyper_loss: 42.2002\n",
      "Epoch 93/200\n",
      "126607/126607 [==============================] - 2s 17us/step - loss: 31.3765 - T2V_loss: -8.8379 - Hyper_loss: 40.2145 - val_loss: 34.6966 - val_T2V_loss: -7.3104 - val_Hyper_loss: 42.0070\n",
      "Epoch 94/200\n",
      "126607/126607 [==============================] - 2s 18us/step - loss: 31.2196 - T2V_loss: -8.8517 - Hyper_loss: 40.0713 - val_loss: 34.6325 - val_T2V_loss: -7.3169 - val_Hyper_loss: 41.9494\n",
      "Epoch 95/200\n",
      "126607/126607 [==============================] - 2s 17us/step - loss: 31.1720 - T2V_loss: -8.8618 - Hyper_loss: 40.0338 - val_loss: 34.5901 - val_T2V_loss: -7.3292 - val_Hyper_loss: 41.9193\n",
      "Epoch 96/200\n",
      "126607/126607 [==============================] - 2s 17us/step - loss: 31.2499 - T2V_loss: -8.8652 - Hyper_loss: 40.1151 - val_loss: 34.6472 - val_T2V_loss: -7.3160 - val_Hyper_loss: 41.9632\n",
      "Epoch 97/200\n",
      "126607/126607 [==============================] - 2s 17us/step - loss: 31.1230 - T2V_loss: -8.8782 - Hyper_loss: 40.0011 - val_loss: 34.5892 - val_T2V_loss: -7.3318 - val_Hyper_loss: 41.9211\n",
      "Epoch 98/200\n",
      "126607/126607 [==============================] - 2s 18us/step - loss: 31.3343 - T2V_loss: -8.8855 - Hyper_loss: 40.2197 - val_loss: 34.6149 - val_T2V_loss: -7.3445 - val_Hyper_loss: 41.9594\n",
      "Epoch 99/200\n",
      "126607/126607 [==============================] - 2s 17us/step - loss: 31.3139 - T2V_loss: -8.8827 - Hyper_loss: 40.1966 - val_loss: 34.5875 - val_T2V_loss: -7.3474 - val_Hyper_loss: 41.9349\n",
      "Epoch 100/200\n",
      "126607/126607 [==============================] - 2s 17us/step - loss: 31.2191 - T2V_loss: -8.8980 - Hyper_loss: 40.1172 - val_loss: 34.5915 - val_T2V_loss: -7.3469 - val_Hyper_loss: 41.9384\n",
      "Epoch 101/200\n",
      "126607/126607 [==============================] - 2s 17us/step - loss: 31.1191 - T2V_loss: -8.9071 - Hyper_loss: 40.0262 - val_loss: 34.5506 - val_T2V_loss: -7.3593 - val_Hyper_loss: 41.9099\n",
      "Epoch 102/200\n",
      "126607/126607 [==============================] - 2s 18us/step - loss: 31.0562 - T2V_loss: -8.9156 - Hyper_loss: 39.9718 - val_loss: 34.5461 - val_T2V_loss: -7.3689 - val_Hyper_loss: 41.9151\n",
      "Epoch 103/200\n",
      "126607/126607 [==============================] - 2s 17us/step - loss: 31.0405 - T2V_loss: -8.9252 - Hyper_loss: 39.9656 - val_loss: 34.5202 - val_T2V_loss: -7.3813 - val_Hyper_loss: 41.9015\n",
      "Epoch 104/200\n",
      "126607/126607 [==============================] - 2s 16us/step - loss: 31.0061 - T2V_loss: -8.9319 - Hyper_loss: 39.9380 - val_loss: 34.5152 - val_T2V_loss: -7.3826 - val_Hyper_loss: 41.8979\n",
      "Epoch 105/200\n",
      "126607/126607 [==============================] - 2s 16us/step - loss: 30.9739 - T2V_loss: -8.9413 - Hyper_loss: 39.9152 - val_loss: 34.4898 - val_T2V_loss: -7.3951 - val_Hyper_loss: 41.8849\n",
      "Epoch 106/200\n",
      "126607/126607 [==============================] - 2s 16us/step - loss: 30.9425 - T2V_loss: -8.9501 - Hyper_loss: 39.8927 - val_loss: 34.4763 - val_T2V_loss: -7.4024 - val_Hyper_loss: 41.8787\n",
      "Epoch 107/200\n",
      "126607/126607 [==============================] - 2s 16us/step - loss: 30.9562 - T2V_loss: -8.9571 - Hyper_loss: 39.9133 - val_loss: 34.4841 - val_T2V_loss: -7.3979 - val_Hyper_loss: 41.8820\n",
      "Epoch 108/200\n",
      "126607/126607 [==============================] - 2s 16us/step - loss: 30.9270 - T2V_loss: -8.9636 - Hyper_loss: 39.8906 - val_loss: 34.4656 - val_T2V_loss: -7.4036 - val_Hyper_loss: 41.8692\n",
      "Epoch 109/200\n",
      "126607/126607 [==============================] - 2s 16us/step - loss: 30.9059 - T2V_loss: -8.9734 - Hyper_loss: 39.8792 - val_loss: 34.4544 - val_T2V_loss: -7.4091 - val_Hyper_loss: 41.8636\n",
      "Epoch 110/200\n",
      "126607/126607 [==============================] - 2s 16us/step - loss: 30.8882 - T2V_loss: -8.9781 - Hyper_loss: 39.8663 - val_loss: 34.4486 - val_T2V_loss: -7.4178 - val_Hyper_loss: 41.8664\n",
      "Epoch 111/200\n",
      "126607/126607 [==============================] - 2s 17us/step - loss: 30.8819 - T2V_loss: -8.9871 - Hyper_loss: 39.8690 - val_loss: 34.4383 - val_T2V_loss: -7.4231 - val_Hyper_loss: 41.8614\n",
      "Epoch 112/200\n",
      "126607/126607 [==============================] - 2s 17us/step - loss: 31.0679 - T2V_loss: -8.9895 - Hyper_loss: 40.0574 - val_loss: 34.5100 - val_T2V_loss: -7.4327 - val_Hyper_loss: 41.9427\n",
      "Epoch 113/200\n",
      "126607/126607 [==============================] - 2s 17us/step - loss: 30.9638 - T2V_loss: -8.9939 - Hyper_loss: 39.9577 - val_loss: 34.4353 - val_T2V_loss: -7.4203 - val_Hyper_loss: 41.8555\n",
      "Epoch 114/200\n",
      "126607/126607 [==============================] - 2s 16us/step - loss: 31.4385 - T2V_loss: -8.9787 - Hyper_loss: 40.4172 - val_loss: 34.5327 - val_T2V_loss: -7.4122 - val_Hyper_loss: 41.9448\n",
      "Epoch 115/200\n",
      "126607/126607 [==============================] - 2s 16us/step - loss: 31.0200 - T2V_loss: -8.9899 - Hyper_loss: 40.0098 - val_loss: 34.4570 - val_T2V_loss: -7.4204 - val_Hyper_loss: 41.8773\n",
      "Epoch 116/200\n",
      "126607/126607 [==============================] - 2s 16us/step - loss: 30.9392 - T2V_loss: -9.0050 - Hyper_loss: 39.9442 - val_loss: 34.4450 - val_T2V_loss: -7.4256 - val_Hyper_loss: 41.8706\n",
      "Epoch 117/200\n",
      "126607/126607 [==============================] - 2s 16us/step - loss: 30.8673 - T2V_loss: -9.0146 - Hyper_loss: 39.8819 - val_loss: 34.5789 - val_T2V_loss: -7.4417 - val_Hyper_loss: 42.0206\n",
      "Epoch 118/200\n",
      "126607/126607 [==============================] - 2s 16us/step - loss: 31.4519 - T2V_loss: -9.0023 - Hyper_loss: 40.4542 - val_loss: 34.5332 - val_T2V_loss: -7.4336 - val_Hyper_loss: 41.9668\n",
      "Epoch 119/200\n",
      "126607/126607 [==============================] - 2s 16us/step - loss: 30.9423 - T2V_loss: -9.0127 - Hyper_loss: 39.9550 - val_loss: 34.5170 - val_T2V_loss: -7.4404 - val_Hyper_loss: 41.9574\n",
      "Epoch 120/200\n",
      "126607/126607 [==============================] - 2s 16us/step - loss: 30.8828 - T2V_loss: -9.0247 - Hyper_loss: 39.9075 - val_loss: 34.4737 - val_T2V_loss: -7.4506 - val_Hyper_loss: 41.9243\n",
      "Epoch 121/200\n",
      "126607/126607 [==============================] - 2s 16us/step - loss: 30.9423 - T2V_loss: -9.0303 - Hyper_loss: 39.9726 - val_loss: 34.4419 - val_T2V_loss: -7.4440 - val_Hyper_loss: 41.8859\n",
      "Epoch 122/200\n",
      "126607/126607 [==============================] - 2s 16us/step - loss: 30.8549 - T2V_loss: -9.0385 - Hyper_loss: 39.8934 - val_loss: 34.4270 - val_T2V_loss: -7.4563 - val_Hyper_loss: 41.8832\n",
      "Epoch 123/200\n",
      "126607/126607 [==============================] - 2s 18us/step - loss: 30.8167 - T2V_loss: -9.0481 - Hyper_loss: 39.8648 - val_loss: 34.4063 - val_T2V_loss: -7.4718 - val_Hyper_loss: 41.8782\n",
      "Epoch 124/200\n",
      "126607/126607 [==============================] - 2s 16us/step - loss: 30.7898 - T2V_loss: -9.0541 - Hyper_loss: 39.8439 - val_loss: 34.3963 - val_T2V_loss: -7.4824 - val_Hyper_loss: 41.8787\n",
      "Epoch 125/200\n",
      "126607/126607 [==============================] - 2s 16us/step - loss: 30.8052 - T2V_loss: -9.0547 - Hyper_loss: 39.8599 - val_loss: 34.3666 - val_T2V_loss: -7.4853 - val_Hyper_loss: 41.8519\n",
      "Epoch 126/200\n",
      "126607/126607 [==============================] - 2s 17us/step - loss: 30.7406 - T2V_loss: -9.0616 - Hyper_loss: 39.8021 - val_loss: 34.3414 - val_T2V_loss: -7.4942 - val_Hyper_loss: 41.8356\n",
      "Epoch 127/200\n",
      "126607/126607 [==============================] - 2s 17us/step - loss: 30.7291 - T2V_loss: -9.0706 - Hyper_loss: 39.7997 - val_loss: 34.3318 - val_T2V_loss: -7.5022 - val_Hyper_loss: 41.8341\n",
      "Epoch 128/200\n",
      "126607/126607 [==============================] - 2s 18us/step - loss: 30.7331 - T2V_loss: -9.0766 - Hyper_loss: 39.8097 - val_loss: 34.2858 - val_T2V_loss: -7.5162 - val_Hyper_loss: 41.8020\n",
      "Epoch 129/200\n",
      "126607/126607 [==============================] - 2s 16us/step - loss: 30.7071 - T2V_loss: -9.0835 - Hyper_loss: 39.7906 - val_loss: 34.2992 - val_T2V_loss: -7.5239 - val_Hyper_loss: 41.8231\n",
      "Epoch 130/200\n",
      "126607/126607 [==============================] - 2s 17us/step - loss: 30.7067 - T2V_loss: -9.0909 - Hyper_loss: 39.7976 - val_loss: 34.3038 - val_T2V_loss: -7.5199 - val_Hyper_loss: 41.8237\n",
      "Epoch 131/200\n",
      "126607/126607 [==============================] - 2s 17us/step - loss: 30.7616 - T2V_loss: -9.0955 - Hyper_loss: 39.8571 - val_loss: 34.3620 - val_T2V_loss: -7.5163 - val_Hyper_loss: 41.8784\n",
      "Epoch 132/200\n",
      "126607/126607 [==============================] - 2s 17us/step - loss: 30.7836 - T2V_loss: -9.0939 - Hyper_loss: 39.8775 - val_loss: 34.2725 - val_T2V_loss: -7.5452 - val_Hyper_loss: 41.8177\n",
      "Epoch 133/200\n",
      "126607/126607 [==============================] - 2s 17us/step - loss: 30.6882 - T2V_loss: -9.1035 - Hyper_loss: 39.7917 - val_loss: 34.2582 - val_T2V_loss: -7.5497 - val_Hyper_loss: 41.8079\n",
      "Epoch 134/200\n",
      "126607/126607 [==============================] - 2s 17us/step - loss: 31.0269 - T2V_loss: -9.0877 - Hyper_loss: 40.1147 - val_loss: 34.3603 - val_T2V_loss: -7.5198 - val_Hyper_loss: 41.8801\n",
      "Epoch 135/200\n",
      "126607/126607 [==============================] - 2s 17us/step - loss: 30.7356 - T2V_loss: -9.1000 - Hyper_loss: 39.8356 - val_loss: 34.3073 - val_T2V_loss: -7.5300 - val_Hyper_loss: 41.8373\n",
      "Epoch 136/200\n",
      "126607/126607 [==============================] - 2s 16us/step - loss: 30.7000 - T2V_loss: -9.1073 - Hyper_loss: 39.8073 - val_loss: 34.3313 - val_T2V_loss: -7.5251 - val_Hyper_loss: 41.8564\n",
      "Epoch 137/200\n",
      "126607/126607 [==============================] - 2s 17us/step - loss: 30.6667 - T2V_loss: -9.1148 - Hyper_loss: 39.7815 - val_loss: 34.3194 - val_T2V_loss: -7.5295 - val_Hyper_loss: 41.8489\n",
      "Epoch 138/200\n",
      "126607/126607 [==============================] - 2s 17us/step - loss: 30.6522 - T2V_loss: -9.1220 - Hyper_loss: 39.7741 - val_loss: 34.2814 - val_T2V_loss: -7.5420 - val_Hyper_loss: 41.8235\n",
      "Epoch 139/200\n",
      "126607/126607 [==============================] - 2s 18us/step - loss: 30.6190 - T2V_loss: -9.1284 - Hyper_loss: 39.7474 - val_loss: 34.2623 - val_T2V_loss: -7.5551 - val_Hyper_loss: 41.8174\n",
      "Epoch 140/200\n",
      "126607/126607 [==============================] - 2s 18us/step - loss: 30.6045 - T2V_loss: -9.1339 - Hyper_loss: 39.7384 - val_loss: 34.2643 - val_T2V_loss: -7.5500 - val_Hyper_loss: 41.8143\n",
      "Epoch 141/200\n",
      "126607/126607 [==============================] - 2s 17us/step - loss: 30.5791 - T2V_loss: -9.1410 - Hyper_loss: 39.7202 - val_loss: 34.2307 - val_T2V_loss: -7.5773 - val_Hyper_loss: 41.8080\n",
      "Epoch 142/200\n",
      "126607/126607 [==============================] - 2s 18us/step - loss: 30.5797 - T2V_loss: -9.1462 - Hyper_loss: 39.7259 - val_loss: 34.2216 - val_T2V_loss: -7.5774 - val_Hyper_loss: 41.7990\n",
      "Epoch 143/200\n",
      "126607/126607 [==============================] - 2s 20us/step - loss: 30.5378 - T2V_loss: -9.1508 - Hyper_loss: 39.6886 - val_loss: 34.2217 - val_T2V_loss: -7.5802 - val_Hyper_loss: 41.8019\n",
      "Epoch 144/200\n",
      "126607/126607 [==============================] - 2s 18us/step - loss: 30.5483 - T2V_loss: -9.1578 - Hyper_loss: 39.7061 - val_loss: 34.1981 - val_T2V_loss: -7.5894 - val_Hyper_loss: 41.7875\n",
      "Epoch 145/200\n",
      "126607/126607 [==============================] - 2s 18us/step - loss: 30.5522 - T2V_loss: -9.1606 - Hyper_loss: 39.7127 - val_loss: 34.1890 - val_T2V_loss: -7.5903 - val_Hyper_loss: 41.7793\n",
      "Epoch 146/200\n",
      "126607/126607 [==============================] - 2s 18us/step - loss: 30.5126 - T2V_loss: -9.1652 - Hyper_loss: 39.6778 - val_loss: 34.1939 - val_T2V_loss: -7.5970 - val_Hyper_loss: 41.7909\n",
      "Epoch 147/200\n",
      "126607/126607 [==============================] - 2s 18us/step - loss: 30.5443 - T2V_loss: -9.1700 - Hyper_loss: 39.7144 - val_loss: 34.1947 - val_T2V_loss: -7.5977 - val_Hyper_loss: 41.7923\n",
      "Epoch 148/200\n",
      "126607/126607 [==============================] - 2s 17us/step - loss: 30.5920 - T2V_loss: -9.1740 - Hyper_loss: 39.7660 - val_loss: 34.2701 - val_T2V_loss: -7.5626 - val_Hyper_loss: 41.8327\n",
      "Epoch 149/200\n",
      "126607/126607 [==============================] - 2s 17us/step - loss: 30.5345 - T2V_loss: -9.1789 - Hyper_loss: 39.7134 - val_loss: 34.1835 - val_T2V_loss: -7.6044 - val_Hyper_loss: 41.7879\n",
      "Epoch 150/200\n",
      "126607/126607 [==============================] - 2s 18us/step - loss: 30.5006 - T2V_loss: -9.1862 - Hyper_loss: 39.6868 - val_loss: 34.1753 - val_T2V_loss: -7.6163 - val_Hyper_loss: 41.7916\n",
      "Epoch 151/200\n",
      "126607/126607 [==============================] - 2s 18us/step - loss: 30.6303 - T2V_loss: -9.1851 - Hyper_loss: 39.8153 - val_loss: 34.1943 - val_T2V_loss: -7.5809 - val_Hyper_loss: 41.7752\n",
      "Epoch 152/200\n",
      "126607/126607 [==============================] - 2s 18us/step - loss: 30.6199 - T2V_loss: -9.1888 - Hyper_loss: 39.8088 - val_loss: 34.2829 - val_T2V_loss: -7.5798 - val_Hyper_loss: 41.8627\n",
      "Epoch 153/200\n",
      "126607/126607 [==============================] - 2s 18us/step - loss: 30.6193 - T2V_loss: -9.1921 - Hyper_loss: 39.8114 - val_loss: 34.1229 - val_T2V_loss: -7.6266 - val_Hyper_loss: 41.7495\n",
      "Epoch 154/200\n",
      "126607/126607 [==============================] - 2s 18us/step - loss: 30.5331 - T2V_loss: -9.2008 - Hyper_loss: 39.7339 - val_loss: 34.1152 - val_T2V_loss: -7.6391 - val_Hyper_loss: 41.7542\n",
      "Epoch 155/200\n",
      "126607/126607 [==============================] - 2s 17us/step - loss: 30.4676 - T2V_loss: -9.2070 - Hyper_loss: 39.6746 - val_loss: 34.1030 - val_T2V_loss: -7.6475 - val_Hyper_loss: 41.7506\n",
      "Epoch 156/200\n",
      "126607/126607 [==============================] - 2s 17us/step - loss: 30.4248 - T2V_loss: -9.2120 - Hyper_loss: 39.6368 - val_loss: 34.1136 - val_T2V_loss: -7.6501 - val_Hyper_loss: 41.7637\n",
      "Epoch 157/200\n",
      "126607/126607 [==============================] - 2s 18us/step - loss: 30.4140 - T2V_loss: -9.2164 - Hyper_loss: 39.6304 - val_loss: 34.1025 - val_T2V_loss: -7.6564 - val_Hyper_loss: 41.7589\n",
      "Epoch 158/200\n",
      "126607/126607 [==============================] - 2s 19us/step - loss: 30.3835 - T2V_loss: -9.2226 - Hyper_loss: 39.6061 - val_loss: 34.1127 - val_T2V_loss: -7.6513 - val_Hyper_loss: 41.7640\n",
      "Epoch 159/200\n",
      "126607/126607 [==============================] - 2s 18us/step - loss: 30.4510 - T2V_loss: -9.2242 - Hyper_loss: 39.6751 - val_loss: 34.1026 - val_T2V_loss: -7.6575 - val_Hyper_loss: 41.7600\n",
      "Epoch 160/200\n",
      "126607/126607 [==============================] - 2s 17us/step - loss: 30.4221 - T2V_loss: -9.2299 - Hyper_loss: 39.6520 - val_loss: 34.0936 - val_T2V_loss: -7.6563 - val_Hyper_loss: 41.7499\n",
      "Epoch 161/200\n",
      "126607/126607 [==============================] - 2s 17us/step - loss: 30.6556 - T2V_loss: -9.2236 - Hyper_loss: 39.8792 - val_loss: 34.3175 - val_T2V_loss: -7.6247 - val_Hyper_loss: 41.9422\n",
      "Epoch 162/200\n",
      "126607/126607 [==============================] - 2s 16us/step - loss: 30.7549 - T2V_loss: -9.2138 - Hyper_loss: 39.9687 - val_loss: 34.2300 - val_T2V_loss: -7.6569 - val_Hyper_loss: 41.8868\n",
      "Epoch 163/200\n",
      "126607/126607 [==============================] - 2s 17us/step - loss: 30.4888 - T2V_loss: -9.2293 - Hyper_loss: 39.7181 - val_loss: 34.0767 - val_T2V_loss: -7.6676 - val_Hyper_loss: 41.7443\n",
      "Epoch 164/200\n",
      "126607/126607 [==============================] - 2s 17us/step - loss: 30.3587 - T2V_loss: -9.2396 - Hyper_loss: 39.5983 - val_loss: 34.0640 - val_T2V_loss: -7.6724 - val_Hyper_loss: 41.7364\n",
      "Epoch 165/200\n",
      "126607/126607 [==============================] - 2s 16us/step - loss: 30.6438 - T2V_loss: -9.2185 - Hyper_loss: 39.8622 - val_loss: 34.0979 - val_T2V_loss: -7.6696 - val_Hyper_loss: 41.7674\n",
      "Epoch 166/200\n",
      "126607/126607 [==============================] - 2s 17us/step - loss: 30.4426 - T2V_loss: -9.2322 - Hyper_loss: 39.6748 - val_loss: 34.0503 - val_T2V_loss: -7.6919 - val_Hyper_loss: 41.7422\n",
      "Epoch 167/200\n",
      "126607/126607 [==============================] - 2s 17us/step - loss: 30.3504 - T2V_loss: -9.2432 - Hyper_loss: 39.5936 - val_loss: 34.0279 - val_T2V_loss: -7.6971 - val_Hyper_loss: 41.7251\n",
      "Epoch 168/200\n",
      "126607/126607 [==============================] - 2s 17us/step - loss: 30.3093 - T2V_loss: -9.2512 - Hyper_loss: 39.5605 - val_loss: 34.0203 - val_T2V_loss: -7.7017 - val_Hyper_loss: 41.7220\n",
      "Epoch 169/200\n",
      "126607/126607 [==============================] - 2s 16us/step - loss: 30.5177 - T2V_loss: -9.2516 - Hyper_loss: 39.7692 - val_loss: 34.0246 - val_T2V_loss: -7.6898 - val_Hyper_loss: 41.7144\n",
      "Epoch 170/200\n",
      "126607/126607 [==============================] - 2s 17us/step - loss: 30.3750 - T2V_loss: -9.2604 - Hyper_loss: 39.6353 - val_loss: 34.0132 - val_T2V_loss: -7.7096 - val_Hyper_loss: 41.7229\n",
      "Epoch 171/200\n",
      "126607/126607 [==============================] - 2s 16us/step - loss: 34.8418 - T2V_loss: -9.0829 - Hyper_loss: 43.9246 - val_loss: 35.2013 - val_T2V_loss: -7.3530 - val_Hyper_loss: 42.5542\n",
      "Epoch 172/200\n",
      "126607/126607 [==============================] - 2s 16us/step - loss: 31.4717 - T2V_loss: -9.0791 - Hyper_loss: 40.5509 - val_loss: 34.5416 - val_T2V_loss: -7.5800 - val_Hyper_loss: 42.1216\n",
      "Epoch 173/200\n",
      "126607/126607 [==============================] - 2s 16us/step - loss: 30.9765 - T2V_loss: -9.1538 - Hyper_loss: 40.1303 - val_loss: 34.3652 - val_T2V_loss: -7.6256 - val_Hyper_loss: 41.9908\n",
      "Epoch 174/200\n",
      "126607/126607 [==============================] - 2s 17us/step - loss: 30.7881 - T2V_loss: -9.1759 - Hyper_loss: 39.9639 - val_loss: 34.3036 - val_T2V_loss: -7.6290 - val_Hyper_loss: 41.9327\n",
      "Epoch 175/200\n",
      "126607/126607 [==============================] - 2s 17us/step - loss: 30.6643 - T2V_loss: -9.1933 - Hyper_loss: 39.8576 - val_loss: 34.2773 - val_T2V_loss: -7.6276 - val_Hyper_loss: 41.9049\n",
      "Epoch 176/200\n",
      "126607/126607 [==============================] - 2s 16us/step - loss: 30.6211 - T2V_loss: -9.2042 - Hyper_loss: 39.8252 - val_loss: 34.2491 - val_T2V_loss: -7.6346 - val_Hyper_loss: 41.8837\n",
      "Epoch 177/200\n",
      "126607/126607 [==============================] - 2s 16us/step - loss: 30.5690 - T2V_loss: -9.2155 - Hyper_loss: 39.7845 - val_loss: 34.2213 - val_T2V_loss: -7.6372 - val_Hyper_loss: 41.8586\n",
      "Epoch 178/200\n",
      "126607/126607 [==============================] - 2s 17us/step - loss: 30.5184 - T2V_loss: -9.2221 - Hyper_loss: 39.7406 - val_loss: 34.2196 - val_T2V_loss: -7.6336 - val_Hyper_loss: 41.8532\n",
      "Epoch 179/200\n",
      "126607/126607 [==============================] - 2s 17us/step - loss: 30.4929 - T2V_loss: -9.2317 - Hyper_loss: 39.7246 - val_loss: 34.1758 - val_T2V_loss: -7.6454 - val_Hyper_loss: 41.8212\n",
      "Epoch 180/200\n",
      "126607/126607 [==============================] - 2s 17us/step - loss: 30.4642 - T2V_loss: -9.2356 - Hyper_loss: 39.6998 - val_loss: 34.1858 - val_T2V_loss: -7.6422 - val_Hyper_loss: 41.8280\n",
      "Epoch 181/200\n",
      "126607/126607 [==============================] - 2s 16us/step - loss: 30.4625 - T2V_loss: -9.2397 - Hyper_loss: 39.7022 - val_loss: 34.1839 - val_T2V_loss: -7.6462 - val_Hyper_loss: 41.8301\n",
      "Epoch 182/200\n",
      "126607/126607 [==============================] - 2s 16us/step - loss: 30.4521 - T2V_loss: -9.2470 - Hyper_loss: 39.6991 - val_loss: 34.1447 - val_T2V_loss: -7.6619 - val_Hyper_loss: 41.8067\n",
      "Epoch 183/200\n",
      "126607/126607 [==============================] - 2s 17us/step - loss: 30.4176 - T2V_loss: -9.2534 - Hyper_loss: 39.6710 - val_loss: 34.1376 - val_T2V_loss: -7.6687 - val_Hyper_loss: 41.8063\n",
      "Epoch 184/200\n",
      "126607/126607 [==============================] - 2s 17us/step - loss: 30.3864 - T2V_loss: -9.2563 - Hyper_loss: 39.6427 - val_loss: 34.1357 - val_T2V_loss: -7.6804 - val_Hyper_loss: 41.8161\n",
      "Epoch 185/200\n",
      "126607/126607 [==============================] - 2s 18us/step - loss: 30.3452 - T2V_loss: -9.2609 - Hyper_loss: 39.6061 - val_loss: 34.0891 - val_T2V_loss: -7.6857 - val_Hyper_loss: 41.7749\n",
      "Epoch 186/200\n",
      "126607/126607 [==============================] - 2s 17us/step - loss: 30.4157 - T2V_loss: -9.2628 - Hyper_loss: 39.6786 - val_loss: 34.1073 - val_T2V_loss: -7.6782 - val_Hyper_loss: 41.7856\n",
      "Epoch 187/200\n",
      "126607/126607 [==============================] - 2s 17us/step - loss: 30.3968 - T2V_loss: -9.2699 - Hyper_loss: 39.6666 - val_loss: 34.0729 - val_T2V_loss: -7.6872 - val_Hyper_loss: 41.7601\n",
      "Epoch 188/200\n",
      "126607/126607 [==============================] - 2s 17us/step - loss: 30.3842 - T2V_loss: -9.2729 - Hyper_loss: 39.6571 - val_loss: 34.0615 - val_T2V_loss: -7.6884 - val_Hyper_loss: 41.7499\n",
      "Epoch 189/200\n",
      "126607/126607 [==============================] - 2s 17us/step - loss: 30.3795 - T2V_loss: -9.2743 - Hyper_loss: 39.6538 - val_loss: 34.0599 - val_T2V_loss: -7.6970 - val_Hyper_loss: 41.7570\n",
      "Epoch 190/200\n",
      "126607/126607 [==============================] - 2s 17us/step - loss: 30.3419 - T2V_loss: -9.2795 - Hyper_loss: 39.6213 - val_loss: 34.0618 - val_T2V_loss: -7.7006 - val_Hyper_loss: 41.7623\n"
     ]
    }
   ],
   "source": [
    "import keras\n",
    "import tensorflow as tf\n",
    "\n",
    "from keras.callbacks import EarlyStopping\n",
    "from keras.optimizers import Adam\n",
    "from keras.models import Model\n",
    "\n",
    "\n",
    "\n",
    "inp, mixed, hyperbolic_embedding_layer, type_embedding_layer = make_network(1024, 256)\n",
    "\n",
    "early_stop = EarlyStopping(monitor='val_loss', patience = 20, restore_best_weights=True)\n",
    "\n",
    "opt = Adam(lr = 0.0001)\n",
    "\n",
    "mixed_model = Model(input=inp, output=[type_embedding_layer, hyperbolic_embedding_layer])\n",
    "mixed_model.compile(optimizer=opt, loss=[cosine_loss, hyperbolic_loss])\n",
    "mixed_history = mixed_model.fit(X_train\n",
    "                                , [y_t2v_train, y_hyp_train] \n",
    "                                , epochs = 200\n",
    "                                , batch_size = 2048\n",
    "                                , validation_data = (X_val, [y_t2v_val, y_hyp_val])\n",
    "                                , shuffle = True\n",
    "                                , callbacks = [early_stop]\n",
    "               )"
   ]
  },
  {
   "cell_type": "markdown",
   "metadata": {},
   "source": [
    "### Plot losses"
   ]
  },
  {
   "cell_type": "code",
   "execution_count": 15,
   "metadata": {},
   "outputs": [
    {
     "data": {
      "image/png": "[encoded data removed]",
      "text/plain": [
       "<Figure size 1080x360 with 3 Axes>"
      ]
     },
     "metadata": {
      "needs_background": "light"
     },
     "output_type": "display_data"
    }
   ],
   "source": [
    "import matplotlib.pyplot as plt\n",
    "\n",
    "plt.figure(figsize=(15,5))\n",
    "\n",
    "plt.subplot(131)\n",
    "plt.plot(mixed_history.history['loss'])\n",
    "plt.plot(mixed_history.history['val_loss'])\n",
    "plt.title('Total loss')\n",
    "plt.ylabel('loss')\n",
    "plt.xlabel('epoch')\n",
    "plt.legend(['train', 'test'], loc='upper right')\n",
    "\n",
    "plt.subplot(132)\n",
    "plt.plot(mixed_history.history['T2V_loss'])\n",
    "plt.plot(mixed_history.history['val_T2V_loss'])\n",
    "plt.title('Cosine loss')\n",
    "plt.ylabel('loss')\n",
    "plt.xlabel('epoch')\n",
    "plt.legend(['train', 'test'], loc='upper right')\n",
    "\n",
    "plt.subplot(133)\n",
    "plt.plot(mixed_history.history['Hyper_loss'])\n",
    "plt.plot(mixed_history.history['val_Hyper_loss'])\n",
    "plt.title('Hyperbolic loss')\n",
    "plt.ylabel('loss')\n",
    "plt.xlabel('epoch')\n",
    "plt.legend(['train', 'test'], loc='upper right')\n",
    "\n",
    "plt.show()"
   ]
  },
  {
   "cell_type": "markdown",
   "metadata": {},
   "source": [
    "## Plot predictions"
   ]
  },
  {
   "cell_type": "code",
   "execution_count": 16,
   "metadata": {},
   "outputs": [],
   "source": [
    "import matplotlib.cm as cm\n",
    "import matplotlib.patches as mpatches\n",
    "\n",
    "classes = list(set(Y_val))\n",
    "colors = cm.tab20(np.linspace(0, 1, len(classes)))\n",
    "color_map = {cla: col for cla,col in zip(classes, colors)}\n",
    "\n",
    "patchList = []\n",
    "\n",
    "for key in classes:\n",
    "    data_key = mpatches.Patch(color=color_map[key], label=key)\n",
    "    patchList.append(data_key)"
   ]
  },
  {
   "cell_type": "code",
   "execution_count": 17,
   "metadata": {},
   "outputs": [
    {
     "name": "stdout",
     "output_type": "stream",
     "text": [
      "100%\n"
     ]
    },
    {
     "data": {
      "image/png": "[encoded data removed]",
      "text/plain": [
       "<Figure size 720x720 with 1 Axes>"
      ]
     },
     "metadata": {
      "needs_background": "light"
     },
     "output_type": "display_data"
    }
   ],
   "source": [
    "from IPython.display import clear_output\n",
    "\n",
    "plt.figure(figsize=(10,10))\n",
    "\n",
    "for l, p in hyperbolic_embedding.items():\n",
    "    plt.scatter(p[0], p[1], c = '#d3d3d3')\n",
    "    if l in classes:\n",
    "        plt.scatter(p[0], p[1], c = 'r')\n",
    "        plt.text(p[0] + 0.02, p[1] + 0.02, l)\n",
    "\n",
    "class_plot = [hyperbolic_embedding[c] for c in classes]\n",
    "        \n",
    "for i, c in enumerate(class_plot):\n",
    "    plt.scatter(c[0], c[1], color = color_map[classes[i]])\n",
    "\n",
    "plt.legend(handles=patchList, bbox_to_anchor=(1, 0.7))\n",
    "\n",
    "n = 1000\n",
    "\n",
    "pred = mixed_model.predict(X_test[:n])[1]\n",
    "\n",
    "mms = 0\n",
    "fhs = 0\n",
    "min_p = 0\n",
    "for i, c in enumerate(pred):\n",
    "    plt.scatter(c[0], c[1], color = color_map[Y_test[i]])\n",
    "    \n",
    "    div = round(i/n , 2)\n",
    "    \n",
    "    if div != min_p:\n",
    "        min_p = div\n",
    "        clear_output()\n",
    "        print('{}%'.format(int(min_p * 100)))\n",
    "        \n"
   ]
  },
  {
   "cell_type": "code",
   "execution_count": 18,
   "metadata": {},
   "outputs": [],
   "source": [
    "from mixed_regression_functions import midpoint\n",
    "\n",
    "pred = mixed_model.predict(X_test)[1]\n",
    "\n",
    "centroids = {c:[] for c in classes}\n",
    "\n",
    "pred_dict = {c:[] for c in classes}\n",
    "for i, p in enumerate(pred):\n",
    "#     if norm(p) < 1:\n",
    "        pred_dict[Y_test[i]].append(p)\n",
    "\n",
    "for c in classes:\n",
    "    centroids[c] = midpoint(pred_dict[c])"
   ]
  },
  {
   "cell_type": "code",
   "execution_count": 19,
   "metadata": {},
   "outputs": [],
   "source": [
    "leyend = []\n",
    "\n",
    "data_key = mpatches.Patch(color='b', label='real')\n",
    "leyend.append(data_key)\n",
    "\n",
    "data_key = mpatches.Patch(color='r', label='imputed')\n",
    "leyend.append(data_key)\n"
   ]
  },
  {
   "cell_type": "code",
   "execution_count": 20,
   "metadata": {},
   "outputs": [
    {
     "data": {
      "text/plain": [
       "<matplotlib.legend.Legend at 0x7f957019bba8>"
      ]
     },
     "execution_count": 20,
     "metadata": {},
     "output_type": "execute_result"
    },
    {
     "data": {
      "image/png": "[encoded data removed]",
      "text/plain": [
       "<Figure size 720x720 with 1 Axes>"
      ]
     },
     "metadata": {
      "needs_background": "light"
     },
     "output_type": "display_data"
    }
   ],
   "source": [
    "plt.figure(figsize=(10,10))\n",
    "\n",
    "for l, p in zip(hyperbolic_embedding.keys(), hyperbolic_embedding.values()):\n",
    "    plt.scatter(p[0], p[1], c = '#d3d3d3')\n",
    "    if l in classes:\n",
    "#         plt.scatter(p[0], p[1], c = color_map[l])\n",
    "        plt.text(p[0] + 0.02, p[1] + 0.02, l)\n",
    "\n",
    "class_plot = [hyperbolic_embedding[c] for c in classes]\n",
    "        \n",
    "for i, c in enumerate(class_plot):\n",
    "    plt.scatter(c[0], c[1], color = 'b')\n",
    "\n",
    "for k,v in zip(centroids.keys(), centroids.values()):\n",
    "    if not np.isnan(v[0]):\n",
    "        plt.scatter(v[0], v[1], color = 'r')\n",
    "        plt.text(v[0] + 0.02, v[1] + 0.02, k)\n",
    "\n",
    "plt.legend(handles=leyend, bbox_to_anchor=(0.85, 0.95))\n",
    "\n",
    "\n",
    "# for k,v in zip(centroids['rfr'].keys(), centroids['rfr'].values()):\n",
    "#     if not np.isnan(v[0]):\n",
    "#         plt.scatter(v[0], v[1], color = 'g')\n",
    "#         plt.text(v[0] + 0.02, v[1] + 0.02, k)\n",
    "        \n",
    "\n",
    "# for k,v in zip(centroids['single'].keys(), centroids['single'].values()):\n",
    "#     if not np.isnan(v[0]):\n",
    "#         plt.scatter(v[0], v[1], color = 'k')\n",
    "#         plt.text(v[0] + 0.02, v[1] + 0.02, k)\n"
   ]
  },
  {
   "cell_type": "markdown",
   "metadata": {},
   "source": [
    "## Random Forest Regressor"
   ]
  },
  {
   "cell_type": "code",
   "execution_count": 21,
   "metadata": {},
   "outputs": [],
   "source": [
    "from sklearn.ensemble import RandomForestRegressor"
   ]
  },
  {
   "cell_type": "markdown",
   "metadata": {},
   "source": [
    "### Random Forest training"
   ]
  },
  {
   "cell_type": "code",
   "execution_count": 22,
   "metadata": {},
   "outputs": [
    {
     "data": {
      "text/plain": [
       "61.80538558959961"
      ]
     },
     "execution_count": 22,
     "metadata": {},
     "output_type": "execute_result"
    }
   ],
   "source": [
    "import time\n",
    "\n",
    "t = time.time()\n",
    "dis_regr = RandomForestRegressor(max_depth=8, \n",
    "                                 random_state=0,\n",
    "                                 n_estimators=15,\n",
    "                                 n_jobs = 5)\n",
    "dis_regr.fit(X_train[:10000], y_t2v_train[:10000])\n",
    "time.time() - t"
   ]
  },
  {
   "cell_type": "code",
   "execution_count": 23,
   "metadata": {},
   "outputs": [
    {
     "data": {
      "text/plain": [
       "16.559566736221313"
      ]
     },
     "execution_count": 23,
     "metadata": {},
     "output_type": "execute_result"
    }
   ],
   "source": [
    "t = time.time()\n",
    "hyp_regr = RandomForestRegressor(max_depth=8, \n",
    "                                 random_state=0,\n",
    "#                                  criterion=hyperbolic_loss,\n",
    "                                 n_estimators=15,\n",
    "                                 n_jobs = 5)\n",
    "hyp_regr.fit(X_train[:10000], y_hyp_train[:10000])\n",
    "time.time()-t"
   ]
  },
  {
   "cell_type": "markdown",
   "metadata": {},
   "source": [
    "### Preliminar Evaluation"
   ]
  },
  {
   "cell_type": "code",
   "execution_count": 25,
   "metadata": {},
   "outputs": [],
   "source": [
    "from mixed_regression_functions import hyper_distance\n",
    "\n",
    "preds = hyp_regr.predict(X_test)\n",
    "\n",
    "class_dists = {c:[] for c in classes}\n",
    "class_points = {c:[] for c in classes}\n",
    "\n",
    "for i, p in enumerate(preds):\n",
    "    d = hyper_distance(p, hyperbolic_embedding[Y_test[i]])\n",
    "    class_dists[Y_test[i]].append(d)\n",
    "    class_points[Y_test[i]].append(p)\n",
    "    \n",
    "centroids = {}\n",
    "for c in classes:\n",
    "    centroids[c] = midpoint(class_points[c])\n",
    "#     euclids[c] = np.sum(np.array(class_points[c])/len(class_points[c]), axis=0)\n",
    "\n"
   ]
  },
  {
   "cell_type": "code",
   "execution_count": 26,
   "metadata": {},
   "outputs": [
    {
     "name": "stdout",
     "output_type": "stream",
     "text": [
      "mean hyper distance for Scientist: 10.0322\n",
      "mean hyper distance for Company: 10.6464\n",
      "mean hyper distance for SportsTeam: 11.2977\n",
      "mean hyper distance for EthnicGroup: 5.6407\n",
      "mean hyper distance for Plant: 13.3513\n",
      "mean hyper distance for FictionalCharacter: 12.329\n",
      "mean hyper distance for Insect: 18.5912\n",
      "mean hyper distance for ArchitecturalStructure: 6.9802\n",
      "mean hyper distance for Colour: 3.2161\n",
      "mean hyper distance for Mammal: 16.8054\n",
      "mean hyper distance for Planet: 13.2999\n",
      "mean hyper distance for Weapon: 9.3309\n",
      "mean hyper distance for Artist: 9.7883\n",
      "mean hyper distance for Sport: 9.7897\n",
      "mean hyper distance for Language: 4.3374\n",
      "mean hyper distance for Award: 3.1342\n",
      "mean hyper distance for Bird: 17.8763\n",
      "centroid hyper distance for Scientist: 10.0343\n",
      "centroid hyper distance for Company: 10.6258\n",
      "centroid hyper distance for SportsTeam: 11.2916\n",
      "centroid hyper distance for EthnicGroup: 5.5063\n",
      "centroid hyper distance for Plant: 13.2506\n",
      "centroid hyper distance for FictionalCharacter: 12.3477\n",
      "centroid hyper distance for Insect: 18.4261\n",
      "centroid hyper distance for ArchitecturalStructure: 6.788\n",
      "centroid hyper distance for Colour: 2.982\n",
      "centroid hyper distance for Mammal: 16.4366\n",
      "centroid hyper distance for Planet: 13.2412\n",
      "centroid hyper distance for Weapon: 9.0203\n",
      "centroid hyper distance for Artist: 9.8121\n",
      "centroid hyper distance for Sport: 9.7077\n",
      "centroid hyper distance for Language: 4.2855\n",
      "centroid hyper distance for Award: 3.0647\n",
      "centroid hyper distance for Bird: 17.744\n"
     ]
    }
   ],
   "source": [
    "for k, v in class_dists.items():\n",
    "    print('mean hyper distance for {}: {}'.format(k, round(np.mean(v), 4)))\n",
    "\n",
    "for k, v in centroids.items():\n",
    "    print('centroid hyper distance for {}: {}'.format(k, round(hyper_distance(v, \n",
    "                                                                              hyperbolic_embedding[k], \n",
    "                                                                              1)\n",
    "                                                               , 4)))"
   ]
  },
  {
   "cell_type": "markdown",
   "metadata": {},
   "source": [
    "### Simple Network"
   ]
  },
  {
   "cell_type": "code",
   "execution_count": 27,
   "metadata": {},
   "outputs": [
    {
     "name": "stderr",
     "output_type": "stream",
     "text": [
      "/home/vmanuel/venv/lib/python3.6/site-packages/ipykernel_launcher.py:18: UserWarning: Update your `Model` call to the Keras 2 API: `Model(inputs=Tensor(\"in..., outputs=Tensor(\"Hy...)`\n"
     ]
    },
    {
     "name": "stdout",
     "output_type": "stream",
     "text": [
      "Train on 126607 samples, validate on 11469 samples\n",
      "Epoch 1/200\n",
      "126607/126607 [==============================] - 4s 30us/step - loss: 46.2561 - val_loss: 42.5759\n",
      "Epoch 2/200\n",
      "126607/126607 [==============================] - 3s 23us/step - loss: 41.4818 - val_loss: 42.3844\n",
      "Epoch 3/200\n",
      "126607/126607 [==============================] - 3s 23us/step - loss: 41.6992 - val_loss: 42.3591\n",
      "Epoch 4/200\n",
      "126607/126607 [==============================] - 3s 24us/step - loss: 43.8285 - val_loss: 42.7425\n",
      "Epoch 5/200\n",
      "126607/126607 [==============================] - 3s 23us/step - loss: 41.4260 - val_loss: 42.5518\n",
      "Epoch 6/200\n",
      "126607/126607 [==============================] - 3s 23us/step - loss: 41.1254 - val_loss: 42.6519\n",
      "Epoch 7/200\n",
      "126607/126607 [==============================] - 3s 24us/step - loss: 40.9379 - val_loss: 42.3451\n",
      "Epoch 8/200\n",
      "126607/126607 [==============================] - 3s 23us/step - loss: 40.8590 - val_loss: 42.3026\n",
      "Epoch 9/200\n",
      "126607/126607 [==============================] - 3s 23us/step - loss: 40.6385 - val_loss: 42.2708\n",
      "Epoch 10/200\n",
      "126607/126607 [==============================] - 3s 23us/step - loss: 40.4980 - val_loss: 42.3032\n",
      "Epoch 11/200\n",
      "126607/126607 [==============================] - 3s 23us/step - loss: 40.4279 - val_loss: 42.4867\n",
      "Epoch 12/200\n",
      "126607/126607 [==============================] - 3s 23us/step - loss: 40.3189 - val_loss: 42.1806\n",
      "Epoch 13/200\n",
      "126607/126607 [==============================] - 3s 23us/step - loss: 40.1416 - val_loss: 42.2994\n",
      "Epoch 14/200\n",
      "126607/126607 [==============================] - 3s 22us/step - loss: 40.0447 - val_loss: 42.1974\n",
      "Epoch 15/200\n",
      "126607/126607 [==============================] - 3s 25us/step - loss: 39.9685 - val_loss: 42.1288\n",
      "Epoch 16/200\n",
      "126607/126607 [==============================] - 3s 23us/step - loss: 39.8710 - val_loss: 42.0973\n",
      "Epoch 17/200\n",
      "126607/126607 [==============================] - 3s 23us/step - loss: 39.7978 - val_loss: 42.1275\n",
      "Epoch 18/200\n",
      "126607/126607 [==============================] - 3s 23us/step - loss: 39.8692 - val_loss: 42.1604\n",
      "Epoch 19/200\n",
      "126607/126607 [==============================] - 3s 23us/step - loss: 39.6669 - val_loss: 42.0741\n",
      "Epoch 20/200\n",
      "126607/126607 [==============================] - 3s 23us/step - loss: 39.6771 - val_loss: 42.1340\n",
      "Epoch 21/200\n",
      "126607/126607 [==============================] - 3s 23us/step - loss: 39.6112 - val_loss: 41.9529\n",
      "Epoch 22/200\n",
      "126607/126607 [==============================] - 3s 23us/step - loss: 40.2253 - val_loss: 42.0762\n",
      "Epoch 23/200\n",
      "126607/126607 [==============================] - 3s 23us/step - loss: 39.6520 - val_loss: 41.8839\n",
      "Epoch 24/200\n",
      "126607/126607 [==============================] - 3s 22us/step - loss: 40.8931 - val_loss: 42.5986\n",
      "Epoch 25/200\n",
      "126607/126607 [==============================] - 3s 24us/step - loss: 40.4306 - val_loss: 42.3130\n",
      "Epoch 26/200\n",
      "126607/126607 [==============================] - 3s 24us/step - loss: 39.7922 - val_loss: 42.3541\n",
      "Epoch 27/200\n",
      "126607/126607 [==============================] - 3s 23us/step - loss: 40.2446 - val_loss: 41.9679\n",
      "Epoch 28/200\n",
      "126607/126607 [==============================] - 3s 23us/step - loss: 39.8077 - val_loss: 42.1207\n",
      "Epoch 29/200\n",
      "126607/126607 [==============================] - 3s 23us/step - loss: 39.8926 - val_loss: 42.0869\n",
      "Epoch 30/200\n",
      "126607/126607 [==============================] - 3s 23us/step - loss: 39.7261 - val_loss: 42.8252\n",
      "Epoch 31/200\n",
      "126607/126607 [==============================] - 3s 23us/step - loss: 39.7783 - val_loss: 41.9727\n",
      "Epoch 32/200\n",
      "126607/126607 [==============================] - 3s 23us/step - loss: 39.6965 - val_loss: 41.7495\n",
      "Epoch 33/200\n",
      "126607/126607 [==============================] - 3s 23us/step - loss: 40.0051 - val_loss: 41.8938\n",
      "Epoch 34/200\n",
      "126607/126607 [==============================] - 3s 25us/step - loss: 39.6607 - val_loss: 41.9709\n",
      "Epoch 35/200\n",
      "126607/126607 [==============================] - 3s 24us/step - loss: 39.9399 - val_loss: 41.8590\n",
      "Epoch 36/200\n",
      "126607/126607 [==============================] - 3s 24us/step - loss: 40.6347 - val_loss: 42.1354\n",
      "Epoch 37/200\n",
      "126607/126607 [==============================] - 3s 23us/step - loss: 39.9009 - val_loss: 42.1063\n",
      "Epoch 38/200\n",
      "126607/126607 [==============================] - 3s 23us/step - loss: 39.7023 - val_loss: 41.8432\n",
      "Epoch 39/200\n",
      "126607/126607 [==============================] - 3s 24us/step - loss: 40.1228 - val_loss: 42.0165\n",
      "Epoch 40/200\n",
      "126607/126607 [==============================] - 3s 23us/step - loss: 39.6796 - val_loss: 42.8221\n",
      "Epoch 41/200\n",
      "126607/126607 [==============================] - 3s 23us/step - loss: 39.6164 - val_loss: 41.9870\n",
      "Epoch 42/200\n",
      "126607/126607 [==============================] - 3s 23us/step - loss: 39.4751 - val_loss: 42.9440\n",
      "Epoch 43/200\n",
      "126607/126607 [==============================] - 3s 24us/step - loss: 39.7697 - val_loss: 41.8831\n",
      "Epoch 44/200\n",
      "126607/126607 [==============================] - 3s 24us/step - loss: 39.5935 - val_loss: 41.8097\n",
      "Epoch 45/200\n",
      "126607/126607 [==============================] - 3s 23us/step - loss: 39.5211 - val_loss: 41.6905\n",
      "Epoch 46/200\n",
      "126607/126607 [==============================] - 3s 23us/step - loss: 39.4620 - val_loss: 42.0174\n",
      "Epoch 47/200\n",
      "126607/126607 [==============================] - 3s 26us/step - loss: 43.1742 - val_loss: 42.4859\n",
      "Epoch 48/200\n",
      "126607/126607 [==============================] - 3s 23us/step - loss: 40.3829 - val_loss: 41.9872\n",
      "Epoch 49/200\n",
      "126607/126607 [==============================] - 3s 23us/step - loss: 39.7537 - val_loss: 41.9346\n",
      "Epoch 50/200\n",
      "126607/126607 [==============================] - 3s 23us/step - loss: 40.0083 - val_loss: 41.8166\n",
      "Epoch 51/200\n",
      "126607/126607 [==============================] - 3s 23us/step - loss: 39.5475 - val_loss: 41.8418\n",
      "Epoch 52/200\n",
      "126607/126607 [==============================] - 3s 24us/step - loss: 39.3818 - val_loss: 42.0354\n",
      "Epoch 53/200\n",
      "126607/126607 [==============================] - 3s 24us/step - loss: 43.7573 - val_loss: 42.5485\n",
      "Epoch 54/200\n",
      "126607/126607 [==============================] - 3s 23us/step - loss: 40.4741 - val_loss: 42.1531\n",
      "Epoch 55/200\n",
      "126607/126607 [==============================] - 3s 23us/step - loss: 39.9563 - val_loss: 42.0396\n",
      "Epoch 56/200\n",
      "126607/126607 [==============================] - 3s 24us/step - loss: 39.7612 - val_loss: 41.9364\n",
      "Epoch 57/200\n",
      "126607/126607 [==============================] - 3s 24us/step - loss: 39.6528 - val_loss: 42.0287\n",
      "Epoch 58/200\n",
      "126607/126607 [==============================] - 3s 23us/step - loss: 39.5405 - val_loss: 41.9750\n",
      "Epoch 59/200\n",
      "126607/126607 [==============================] - 3s 24us/step - loss: 39.6961 - val_loss: 41.8077\n",
      "Epoch 60/200\n",
      "126607/126607 [==============================] - 3s 24us/step - loss: 39.4985 - val_loss: 41.9132\n",
      "Epoch 61/200\n",
      "126607/126607 [==============================] - 3s 24us/step - loss: 39.4298 - val_loss: 41.9038\n",
      "Epoch 62/200\n",
      "126607/126607 [==============================] - 3s 24us/step - loss: 39.4788 - val_loss: 41.7503\n",
      "Epoch 63/200\n",
      "126607/126607 [==============================] - 3s 23us/step - loss: 39.4293 - val_loss: 41.4638\n",
      "Epoch 64/200\n",
      "126607/126607 [==============================] - 3s 23us/step - loss: 39.8436 - val_loss: 41.8218\n",
      "Epoch 65/200\n",
      "126607/126607 [==============================] - 3s 23us/step - loss: 39.4478 - val_loss: 42.5521\n",
      "Epoch 66/200\n",
      "126607/126607 [==============================] - 3s 23us/step - loss: 39.7413 - val_loss: 41.7678\n",
      "Epoch 67/200\n",
      "126607/126607 [==============================] - 3s 24us/step - loss: 41.6447 - val_loss: 42.7077\n",
      "Epoch 68/200\n",
      "126607/126607 [==============================] - 3s 26us/step - loss: 40.8076 - val_loss: 42.0597\n",
      "Epoch 69/200\n",
      "126607/126607 [==============================] - 3s 23us/step - loss: 39.9647 - val_loss: 41.8548\n",
      "Epoch 70/200\n",
      "126607/126607 [==============================] - 3s 24us/step - loss: 39.5318 - val_loss: 41.8453\n",
      "Epoch 71/200\n",
      "126607/126607 [==============================] - 3s 24us/step - loss: 40.0944 - val_loss: 41.7870\n",
      "Epoch 72/200\n",
      "126607/126607 [==============================] - 3s 24us/step - loss: 39.7735 - val_loss: 41.8401\n",
      "Epoch 73/200\n",
      "126607/126607 [==============================] - 3s 24us/step - loss: 40.4943 - val_loss: 41.7280\n",
      "Epoch 74/200\n",
      "126607/126607 [==============================] - 3s 23us/step - loss: 39.4757 - val_loss: 41.8177\n",
      "Epoch 75/200\n",
      "126607/126607 [==============================] - 3s 23us/step - loss: 39.4453 - val_loss: 41.7721\n",
      "Epoch 76/200\n",
      "126607/126607 [==============================] - 3s 24us/step - loss: 39.6803 - val_loss: 41.8981\n",
      "Epoch 77/200\n",
      "126607/126607 [==============================] - 3s 23us/step - loss: 43.6770 - val_loss: 42.7080\n",
      "Epoch 78/200\n",
      "126607/126607 [==============================] - 3s 23us/step - loss: 41.1137 - val_loss: 42.6352\n",
      "Epoch 79/200\n",
      "126607/126607 [==============================] - 3s 25us/step - loss: 41.0959 - val_loss: 42.6265\n",
      "Epoch 80/200\n",
      "126607/126607 [==============================] - 3s 23us/step - loss: 41.0183 - val_loss: 42.5966\n",
      "Epoch 81/200\n",
      "126607/126607 [==============================] - 3s 23us/step - loss: 40.7813 - val_loss: 42.2066\n",
      "Epoch 82/200\n",
      "126607/126607 [==============================] - 3s 23us/step - loss: 40.2362 - val_loss: 42.0492\n",
      "Epoch 83/200\n",
      "126607/126607 [==============================] - 3s 23us/step - loss: 39.7384 - val_loss: 41.9850\n"
     ]
    }
   ],
   "source": [
    "\n",
    "inp = Input(shape=(1024, ))\n",
    "\n",
    "mixed = Dense(256, activation = \"tanh\")(inp)\n",
    "droppy = Dropout(0.3)(mixed)\n",
    "mixed = Dense(128, activation = \"tanh\")(droppy)\n",
    "droppy = Dropout(0.3)(mixed)\n",
    "mixed = Dense(128, activation = \"tanh\")(droppy)\n",
    "droppy = Dropout(0.3)(mixed)\n",
    "mixed = Dense(64, activation = \"tanh\")(droppy)\n",
    "\n",
    "hyperbolic_embedding_layer = Dense(2, name='Hyper')(mixed)\n",
    "dis_embedding_layer = Dense(100, name='Hyper')(mixed)\n",
    "\n",
    "\n",
    "early_stop = EarlyStopping(monitor='val_loss', patience = 20, restore_best_weights=True)\n",
    "\n",
    "single_hyp_model = Model(input=inp, output=hyperbolic_embedding_layer)\n",
    "\n",
    "\n",
    "single_hyp_model.compile(optimizer='adam', loss=hyperbolic_loss)\n",
    "\n",
    "single_hyp_history = single_hyp_model.fit(X_train\n",
    "                                , y_hyp_train \n",
    "                                , epochs = 200\n",
    "                                , batch_size = 512\n",
    "                                , validation_data=(X_val, y_hyp_val)\n",
    "                                , shuffle = True\n",
    "                                , callbacks = [early_stop]\n",
    "               )"
   ]
  },
  {
   "cell_type": "code",
   "execution_count": 28,
   "metadata": {},
   "outputs": [
    {
     "name": "stderr",
     "output_type": "stream",
     "text": [
      "/home/vmanuel/venv/lib/python3.6/site-packages/ipykernel_launcher.py:19: UserWarning: Update your `Model` call to the Keras 2 API: `Model(inputs=Tensor(\"in..., outputs=Tensor(\"Hy...)`\n"
     ]
    },
    {
     "name": "stdout",
     "output_type": "stream",
     "text": [
      "Train on 126607 samples, validate on 11469 samples\n",
      "Epoch 1/200\n",
      "126607/126607 [==============================] - 3s 23us/step - loss: -7.3204 - val_loss: -7.2597\n",
      "Epoch 2/200\n",
      "126607/126607 [==============================] - 2s 20us/step - loss: -8.9068 - val_loss: -7.5628\n",
      "Epoch 3/200\n",
      "126607/126607 [==============================] - 2s 18us/step - loss: -9.1927 - val_loss: -7.6417\n",
      "Epoch 4/200\n",
      "126607/126607 [==============================] - 2s 17us/step - loss: -9.3417 - val_loss: -7.8110\n",
      "Epoch 5/200\n",
      "126607/126607 [==============================] - 2s 17us/step - loss: -9.4216 - val_loss: -7.8062\n",
      "Epoch 6/200\n",
      "126607/126607 [==============================] - 2s 18us/step - loss: -9.4842 - val_loss: -7.8744\n",
      "Epoch 7/200\n",
      "126607/126607 [==============================] - 2s 17us/step - loss: -9.5280 - val_loss: -7.8647\n",
      "Epoch 8/200\n",
      "126607/126607 [==============================] - 2s 17us/step - loss: -9.5599 - val_loss: -7.8822\n",
      "Epoch 9/200\n",
      "126607/126607 [==============================] - 2s 17us/step - loss: -9.5861 - val_loss: -7.8096\n",
      "Epoch 10/200\n",
      "126607/126607 [==============================] - 2s 17us/step - loss: -9.6036 - val_loss: -7.9318\n",
      "Epoch 11/200\n",
      "126607/126607 [==============================] - 2s 17us/step - loss: -9.6214 - val_loss: -8.0948\n",
      "Epoch 12/200\n",
      "126607/126607 [==============================] - 2s 18us/step - loss: -9.6404 - val_loss: -7.9744\n",
      "Epoch 13/200\n",
      "126607/126607 [==============================] - 2s 17us/step - loss: -9.6581 - val_loss: -7.9503\n",
      "Epoch 14/200\n",
      "126607/126607 [==============================] - 2s 17us/step - loss: -9.6710 - val_loss: -7.9460\n",
      "Epoch 15/200\n",
      "126607/126607 [==============================] - 2s 17us/step - loss: -9.6820 - val_loss: -7.9272\n",
      "Epoch 16/200\n",
      "126607/126607 [==============================] - 2s 18us/step - loss: -9.6907 - val_loss: -8.0783\n",
      "Epoch 17/200\n",
      "126607/126607 [==============================] - 2s 17us/step - loss: -9.7021 - val_loss: -8.0218\n",
      "Epoch 18/200\n",
      "126607/126607 [==============================] - 2s 17us/step - loss: -9.7121 - val_loss: -8.0099\n",
      "Epoch 19/200\n",
      "126607/126607 [==============================] - 2s 17us/step - loss: -9.7216 - val_loss: -7.9709\n",
      "Epoch 20/200\n",
      "126607/126607 [==============================] - 2s 17us/step - loss: -9.7267 - val_loss: -8.1048\n",
      "Epoch 21/200\n",
      "126607/126607 [==============================] - 2s 17us/step - loss: -9.7366 - val_loss: -7.9806\n",
      "Epoch 22/200\n",
      "126607/126607 [==============================] - 2s 18us/step - loss: -9.7406 - val_loss: -7.9394\n",
      "Epoch 23/200\n",
      "126607/126607 [==============================] - 2s 19us/step - loss: -9.7489 - val_loss: -7.9356\n",
      "Epoch 24/200\n",
      "126607/126607 [==============================] - 2s 19us/step - loss: -9.7513 - val_loss: -7.9237\n",
      "Epoch 25/200\n",
      "126607/126607 [==============================] - 2s 18us/step - loss: -9.7562 - val_loss: -8.0532\n",
      "Epoch 26/200\n",
      "126607/126607 [==============================] - 2s 18us/step - loss: -9.7628 - val_loss: -7.9171\n",
      "Epoch 27/200\n",
      "126607/126607 [==============================] - 2s 18us/step - loss: -9.7663 - val_loss: -8.0854\n",
      "Epoch 28/200\n",
      "126607/126607 [==============================] - 2s 17us/step - loss: -9.7721 - val_loss: -8.0865\n",
      "Epoch 29/200\n",
      "126607/126607 [==============================] - 2s 17us/step - loss: -9.7782 - val_loss: -8.1330\n",
      "Epoch 30/200\n",
      "126607/126607 [==============================] - 2s 17us/step - loss: -9.7796 - val_loss: -8.0351\n",
      "Epoch 31/200\n",
      "126607/126607 [==============================] - 2s 18us/step - loss: -9.7865 - val_loss: -7.9317\n",
      "Epoch 32/200\n",
      "126607/126607 [==============================] - 2s 18us/step - loss: -9.7874 - val_loss: -8.0009\n",
      "Epoch 33/200\n",
      "126607/126607 [==============================] - 2s 17us/step - loss: -9.7913 - val_loss: -7.9960\n",
      "Epoch 34/200\n",
      "126607/126607 [==============================] - 2s 18us/step - loss: -9.7950 - val_loss: -8.0072\n",
      "Epoch 35/200\n",
      "126607/126607 [==============================] - 2s 18us/step - loss: -9.7974 - val_loss: -7.9711\n",
      "Epoch 36/200\n",
      "126607/126607 [==============================] - 2s 18us/step - loss: -9.8013 - val_loss: -7.8824\n",
      "Epoch 37/200\n",
      "126607/126607 [==============================] - 2s 18us/step - loss: -9.8020 - val_loss: -7.9576\n",
      "Epoch 38/200\n",
      "126607/126607 [==============================] - 2s 18us/step - loss: -9.8088 - val_loss: -7.9718\n",
      "Epoch 39/200\n",
      "126607/126607 [==============================] - 2s 18us/step - loss: -9.8089 - val_loss: -7.9437\n",
      "Epoch 40/200\n",
      "126607/126607 [==============================] - 2s 18us/step - loss: -9.8124 - val_loss: -7.9252\n",
      "Epoch 41/200\n",
      "126607/126607 [==============================] - 2s 18us/step - loss: -9.8142 - val_loss: -8.0148\n",
      "Epoch 42/200\n",
      "126607/126607 [==============================] - 2s 18us/step - loss: -9.8175 - val_loss: -8.0098\n",
      "Epoch 43/200\n",
      "126607/126607 [==============================] - 2s 18us/step - loss: -9.8189 - val_loss: -7.9238\n",
      "Epoch 44/200\n",
      "126607/126607 [==============================] - 2s 18us/step - loss: -9.8207 - val_loss: -7.9922\n",
      "Epoch 45/200\n",
      "126607/126607 [==============================] - 2s 18us/step - loss: -9.8247 - val_loss: -7.9375\n",
      "Epoch 46/200\n",
      "126607/126607 [==============================] - 2s 18us/step - loss: -9.8250 - val_loss: -8.0852\n",
      "Epoch 47/200\n",
      "126607/126607 [==============================] - 2s 18us/step - loss: -9.8276 - val_loss: -7.9516\n",
      "Epoch 48/200\n",
      "126607/126607 [==============================] - 2s 19us/step - loss: -9.8285 - val_loss: -8.0410\n",
      "Epoch 49/200\n",
      "126607/126607 [==============================] - 2s 19us/step - loss: -9.8345 - val_loss: -7.9263\n"
     ]
    }
   ],
   "source": [
    "inp = Input(shape=(1024, ))\n",
    "\n",
    "mixed = Dense(256, activation = \"tanh\")(inp)\n",
    "droppy = Dropout(0.3)(mixed)\n",
    "mixed = Dense(128, activation = \"tanh\")(droppy)\n",
    "droppy = Dropout(0.3)(mixed)\n",
    "mixed = Dense(128, activation = \"tanh\")(droppy)\n",
    "droppy = Dropout(0.3)(mixed)\n",
    "mixed = Dense(128, activation = \"tanh\")(droppy)\n",
    "\n",
    "hyperbolic_embedding_layer = Dense(2, name='Hyper')(mixed)\n",
    "dis_embedding_layer = Dense(100, name='Hyper')(mixed)\n",
    "\n",
    "\n",
    "early_stop = EarlyStopping(monitor='val_loss', patience = 20, restore_best_weights=True)\n",
    "\n",
    "\n",
    "\n",
    "single_dis_model = Model(input=inp, output=dis_embedding_layer)\n",
    "single_dis_model.compile(optimizer='adam', loss=cosine_loss)\n",
    "single_dis_history = single_dis_model.fit(X_train\n",
    "                                , y_t2v_train\n",
    "                                , epochs = 200\n",
    "                                , batch_size = 1024\n",
    "                                , validation_data=(X_val, y_t2v_val)\n",
    "                                , shuffle = True\n",
    "                                , callbacks = [early_stop])"
   ]
  },
  {
   "cell_type": "code",
   "execution_count": 29,
   "metadata": {},
   "outputs": [],
   "source": [
    "from sklearn.metrics import mean_squared_error\n",
    "from mixed_regression_functions import find_neighbours\n",
    "\n",
    "\n",
    "\n",
    "def print_res(X_test, Y_test, double, single, rfr, mode, measure, t = 'no'):\n",
    "    single_pred = single.predict(X_test)\n",
    "    rfr_pred = rfr.predict(X_test)\n",
    "    \n",
    "    if mode == 'hyper':\n",
    "        try:\n",
    "            title = 'Hyperbolic '\n",
    "            double_pred = double.predict(X_test)[1]\n",
    "        except:\n",
    "            double_pred = double.predict(encoded_test)[1]\n",
    "    else:\n",
    "        try:\n",
    "            title = 'Rank of Distributional '\n",
    "            double_pred = double.predict(X_test)[0]\n",
    "        except:\n",
    "            double_pred = double.predict(encoded_test)[0]\n",
    "    \n",
    "            \n",
    "    \n",
    "    if measure == 'centroid':\n",
    "        title += 'centroid predictions'\n",
    "    elif measure == 'mean':\n",
    "        title += 'mean distance'\n",
    "    \n",
    "    print('-----------------------------------------------------------------------------------------------------------')\n",
    "    print('{:^105}'.format(title))\n",
    "    print('-----------------------------------------------------------------------------------------------------------')    \n",
    "    print('{:^33}|{:^24}|{:^24}|{:^24}'.format('Class', 'RFR', 'Single', 'Double'))\n",
    "    print('{:-^33}|{:-^24}|{:-^24}|{:-^24}'.format('', '', '', ''))\n",
    "    if t != 'quantile':\n",
    "        ret_dic = distances(Y_test, rfr_pred, single_pred, double_pred, mode, measure)\n",
    "    else:\n",
    "        ret_dic = quantiles(Y_test, rfr_pred, single_pred, double_pred, mode, measure)\n",
    "    for c in ret_dic['rfr'].keys():\n",
    "        print('{:^33}|{:^24.4f}|{:^24.4f}|{:^24.4f}'.format(c, ret_dic['rfr'][c], ret_dic['single'][c], ret_dic['double'][c])) \n",
    "    print('-----------------------------------------------------------------------------------------------------------')\n",
    "    print('{:^33}|{:^24.4f}|{:^24.4f}|{:^24.4f}'.format('global {} distance : '.format(measure), \n",
    "                                                        ret_dic['tot']['rfr'],\n",
    "                                                        ret_dic['tot']['single'],\n",
    "                                                        ret_dic['tot']['double']\n",
    "                                                       ))\n",
    "\n",
    "def distances(Y_test, rfr_pred,  single_pred, double_pred, mode, measure):\n",
    "    models = ['rfr', 'single', 'double']\n",
    "    cs = set(Y_test)\n",
    "    \n",
    "    class_dists = {r: {} for r in models}\n",
    "    class_dists['rfr'] = {c:[] for c in cs}\n",
    "    class_dists['single'] = {c:[] for c in cs}\n",
    "    class_dists['double'] = {c:[] for c in cs}\n",
    "    \n",
    "    class_points = {r: {} for r in models}\n",
    "    class_points['rfr'] = {c:[] for c in cs}\n",
    "    class_points['single'] = {c:[] for c in cs}\n",
    "    class_points['double'] = {c:[] for c in cs}\n",
    "    \n",
    "    returns = {r: {} for r in models}\n",
    "    returns['rfr'] = {c:[] for c in cs}\n",
    "    returns['single'] = {c:[] for c in cs}\n",
    "    returns['double'] = {c:[] for c in cs}\n",
    "    returns['tot'] = {m: [] for m in models}\n",
    "    \n",
    "    for model, preds in zip(models,[rfr_pred, single_pred, double_pred]):\n",
    "        for i, p in enumerate(preds):\n",
    "            if measure != 'centroid':\n",
    "                if mode == 'hyper' and norm(p) < 1:\n",
    "                    d = hyper_distance(p, hyperbolic_embedding[Y_test[i]], r=1)\n",
    "#                     d = mean_squared_error(p, hyperbolic_embedding[Y_test[i]])\n",
    "                    \n",
    "                    class_dists[model][Y_test[i]].append(d)\n",
    "                    returns['tot'][model].append(d)\n",
    "                    \n",
    "                elif mode != 'hyper':\n",
    "                    d = cos_sim(p, type_embedding[Y_test[i]])\n",
    "#                     d = mean_squared_error(p, type_embedding[Y_test[i]])\n",
    "                    \n",
    "                    class_dists[model][Y_test[i]].append(d)\n",
    "                    \n",
    "                    returns['tot'][model].append(d)\n",
    "                    \n",
    "                    \n",
    "            elif mode == 'hyper' and norm(p) < 1:\n",
    "                class_points[model][Y_test[i]].append(p)   \n",
    "            elif mode != 'hyper': \n",
    "                class_points[model][Y_test[i]].append(p)   \n",
    "                \n",
    "    for m in models:\n",
    "        for c in cs:\n",
    "            if mode == 'hyper' and measure == 'centroid':\n",
    "                returns[m][c] = hyper_distance(midpoint(class_points[m][c]), hyperbolic_embedding[c], r=1)\n",
    "                returns['tot'][m].append(returns[m][c]) \n",
    "                \n",
    "            elif mode != 'hyper' and measure == 'centroid':\n",
    "                returns[m][c] = cos_sim(sum(class_points[m][c])/len(class_points[m][c]), type_embedding[c])\n",
    "                \n",
    "                returns['tot'][m].append(returns[m][c]) \n",
    "            else:\n",
    "                returns[m][c] = np.mean(class_dists[m][c])\n",
    "                returns['tot'][m].append(returns[m][c]) \n",
    "                    \n",
    "    \n",
    "    for k, v in returns['tot'].items():\n",
    "        returns['tot'][k] = np.mean(v)\n",
    "        \n",
    "    return returns\n",
    "\n",
    "\n",
    "def quantiles(Y_test, rfr_pred, single_pred, double_pred, mode, measure):\n",
    "    models = ['rfr', 'single', 'double']\n",
    "    cs = list(set(Y_test))\n",
    "    \n",
    "    class_dists = {r: {} for r in models}\n",
    "    class_dists['rfr'] = {c:[] for c in cs}\n",
    "    class_dists['single'] = {c:[] for c in cs}\n",
    "    class_dists['double'] = {c:[] for c in cs}\n",
    "    \n",
    "    class_points = {r: {} for r in models}\n",
    "    class_points['rfr'] = {c:[] for c in cs}\n",
    "    class_points['single'] = {c:[] for c in cs}\n",
    "    class_points['double'] = {c:[] for c in cs}\n",
    "    \n",
    "    returns = {r: {} for r in models}\n",
    "    returns['rfr'] = {c:[] for c in cs}\n",
    "    returns['single'] = {c:[] for c in cs}\n",
    "    returns['double'] = {c:[] for c in cs}\n",
    "    returns['tot'] = {m: [] for m in models}\n",
    "\n",
    "    tensors = np.array([v for v in hyperbolic_embedding.values()])\n",
    "    \n",
    "#     print(cs)\n",
    "    if mode == 'hyper':\n",
    "        parenthood = get_parenthood(cs)\n",
    "    \n",
    "    for model, preds in zip(models,[rfr_pred, single_pred, double_pred]):\n",
    "        for i, p in enumerate(preds):\n",
    "            if measure == 'mean' and mode == 'cosine':\n",
    "                dists, rank = find_neighbours(mode='t2v',\n",
    "                                              model=type_embedding,\n",
    "                                              vector=p,\n",
    "                                              tensors=0,\n",
    "                                              topn = 403)\n",
    "                \n",
    "                d = rank.index(Y_test[i]) + 1\n",
    "                \n",
    "                class_dists[model][Y_test[i]].append(d)\n",
    "                returns['tot'][model].append(d)\n",
    "            elif measure == 'mean' and mode == 'hyper':\n",
    "                \n",
    "                anc = [Y_test[i]] + parenthood[Y_test[i]]['ancestors']\n",
    "                min_rank = len(tensors)\n",
    "                dists, rank = find_neighbours(mode='hyper',\n",
    "                                          model=hyperbolic_embedding,\n",
    "                                          vector=p,\n",
    "                                          tensors=tensors,\n",
    "                                          topn = len(tensors))\n",
    "                for a in anc:\n",
    "                    try:\n",
    "                        if rank.index(a) + 1 < min_rank:\n",
    "                            min_rank = rank.index(a) + 1\n",
    "                    except:\n",
    "                        pass\n",
    "                        \n",
    "                class_dists[model][Y_test[i]].append(min_rank)\n",
    "                returns['tot'][model].append(min_rank)\n",
    "            elif measure == 'centroid':\n",
    "                class_points[model][Y_test[i]].append(p)\n",
    "            \n",
    "    for m in models:\n",
    "        for c in cs:\n",
    "            if measure != 'centroid':\n",
    "                returns[m][c] = np.mean(class_dists[m][c])\n",
    "                returns['tot'][m].append(returns[m][c]) \n",
    "            elif mode == 'cosine':\n",
    "                centroid = sum(class_points[m][c])/len(class_points[m][c])\n",
    "                \n",
    "                dists, rank = find_neighbours(mode='t2v',\n",
    "                                              model=type_embedding,\n",
    "                                              vector=centroid,\n",
    "                                              tensors=0,\n",
    "                                              topn = 403)\n",
    "                \n",
    "                returns[m][c] = rank.index(c) + 1\n",
    "                returns['tot'][m].append(returns[m][c])\n",
    "            else:\n",
    "                centroid = midpoint(class_points[m][c])\n",
    "                dists, rank = find_neighbours(mode='hyper',\n",
    "                                              model=hyperbolic_embedding,\n",
    "                                              vector=centroid,\n",
    "                                              tensors=tensors,\n",
    "                                              topn = len(tensors))\n",
    "                returns[m][c] = rank.index(c) + 1\n",
    "                returns['tot'][m].append(returns[m][c])\n",
    "                \n",
    "    for k, v in returns['tot'].items():\n",
    "        returns['tot'][k] = np.mean(v)\n",
    "    \n",
    "    return returns"
   ]
  },
  {
   "cell_type": "code",
   "execution_count": 30,
   "metadata": {},
   "outputs": [],
   "source": [
    "import warnings\n",
    "warnings.filterwarnings('ignore')"
   ]
  },
  {
   "cell_type": "markdown",
   "metadata": {},
   "source": [
    "## Let's print the quantitative results!"
   ]
  },
  {
   "cell_type": "markdown",
   "metadata": {},
   "source": [
    "### Like showed in the paper we compute (and print) the position of the real concept in the neighborhood of the imputed one (less is better!)"
   ]
  },
  {
   "cell_type": "markdown",
   "metadata": {},
   "source": [
    "#### Here we print the mean position of EACH PROJECTED CONCEPT w.r.t the real one in the distributional space (before the imputation)\n",
    "##### By the comparison between this table and the following we can see the noisyness of the single predictions quality with respect to the imputation quality"
   ]
  },
  {
   "cell_type": "code",
   "execution_count": 31,
   "metadata": {},
   "outputs": [
    {
     "name": "stdout",
     "output_type": "stream",
     "text": [
      "-----------------------------------------------------------------------------------------------------------\n",
      "                                  Rank of Distributional mean distance                                   \n",
      "-----------------------------------------------------------------------------------------------------------\n",
      "              Class              |          RFR           |         Single         |         Double         \n",
      "---------------------------------|------------------------|------------------------|------------------------\n",
      "              Sport              |        219.9375        |        180.5104        |        109.8958        \n",
      "             Company             |        31.3547         |        44.3836         |        33.2972         \n",
      "           SportsTeam            |        247.4667        |        102.5333        |        32.8933         \n",
      "           EthnicGroup           |        166.7687        |        93.4127         |        65.4342         \n",
      "              Plant              |        24.2216         |        25.6560         |        16.1144         \n",
      "       FictionalCharacter        |        15.1128         |        25.4491         |        12.3341         \n",
      "             Insect              |        88.7787         |        174.7377        |        198.0410        \n",
      "     ArchitecturalStructure      |        231.6494        |        127.3322        |        85.5893         \n",
      "             Colour              |        16.2108         |         5.3867         |         4.1775         \n",
      "             Mammal              |        13.8233         |        26.9582         |        17.2946         \n",
      "             Planet              |        135.3182        |        144.5909        |        146.7273        \n",
      "             Weapon              |        169.5896        |        82.7711         |        70.4975         \n",
      "            Scientist            |        109.9412        |        27.4973         |         8.4759         \n",
      "             Artist              |        211.2703        |        15.3093         |         4.9129         \n",
      "            Language             |        212.4845        |        14.6977         |         9.6526         \n",
      "              Award              |        23.4682         |        21.8427         |        19.7715         \n",
      "              Bird               |        43.8889         |        73.7593         |        58.1667         \n",
      "-----------------------------------------------------------------------------------------------------------\n",
      "     global mean distance :      |        103.9508        |        40.2190         |        27.9649         \n"
     ]
    }
   ],
   "source": [
    "print_res(X_test, Y_test, mixed_model, single_dis_model, dis_regr, 'cosine', 'mean', 'quantile')"
   ]
  },
  {
   "cell_type": "markdown",
   "metadata": {},
   "source": [
    "#### Here we print the mean position of EACH IMPUTED CONCEPT w.r.t the real one in the distributional space (after the imputation)\n",
    "##### By the comparison between this table and the previous we can see the noisyness of the single predictions quality with respect to the imputation quality"
   ]
  },
  {
   "cell_type": "code",
   "execution_count": 32,
   "metadata": {},
   "outputs": [
    {
     "name": "stdout",
     "output_type": "stream",
     "text": [
      "-----------------------------------------------------------------------------------------------------------\n",
      "                               Rank of Distributional centroid predictions                               \n",
      "-----------------------------------------------------------------------------------------------------------\n",
      "              Class              |          RFR           |         Single         |         Double         \n",
      "---------------------------------|------------------------|------------------------|------------------------\n",
      "              Sport              |        224.0000        |        93.0000         |        19.0000         \n",
      "             Company             |         1.0000         |         1.0000         |         1.0000         \n",
      "           SportsTeam            |        254.0000        |         2.0000         |         3.0000         \n",
      "           EthnicGroup           |         7.0000         |         1.0000         |         1.0000         \n",
      "              Plant              |         1.0000         |         1.0000         |         1.0000         \n",
      "       FictionalCharacter        |         2.0000         |         1.0000         |         1.0000         \n",
      "             Insect              |        60.0000         |        69.0000         |        103.0000        \n",
      "     ArchitecturalStructure      |        238.0000        |         2.0000         |         1.0000         \n",
      "             Colour              |         1.0000         |         1.0000         |         1.0000         \n",
      "             Mammal              |         1.0000         |         1.0000         |         1.0000         \n",
      "             Planet              |        132.0000        |        179.0000        |        167.0000        \n",
      "             Weapon              |        174.0000        |         1.0000         |         1.0000         \n",
      "            Scientist            |        110.0000        |         1.0000         |         1.0000         \n",
      "             Artist              |        213.0000        |         1.0000         |         1.0000         \n",
      "            Language             |        222.0000        |         1.0000         |         1.0000         \n",
      "              Award              |         1.0000         |         1.0000         |         1.0000         \n",
      "              Bird               |         5.0000         |         1.0000         |         2.0000         \n",
      "-----------------------------------------------------------------------------------------------------------\n",
      "   global centroid distance :    |        96.8235         |        21.0000         |        18.0000         \n"
     ]
    }
   ],
   "source": [
    "print_res(X_test, Y_test, mixed_model, single_dis_model, dis_regr, 'cosine', 'centroid', 'quantile')"
   ]
  },
  {
   "cell_type": "markdown",
   "metadata": {},
   "source": [
    "#### Here we print the mean position of EACH PROJECTED CONCEPT w.r.t the real one or one of its ancestor in the hierarchical space\n",
    "##### By the comparison between this table and the following we can see the noisyness of the single predictions quality with respect to the imputation quality"
   ]
  },
  {
   "cell_type": "code",
   "execution_count": 33,
   "metadata": {},
   "outputs": [
    {
     "name": "stdout",
     "output_type": "stream",
     "text": [
      "-----------------------------------------------------------------------------------------------------------\n",
      "                                        Hyperbolic mean distance                                         \n",
      "-----------------------------------------------------------------------------------------------------------\n",
      "              Class              |          RFR           |         Single         |         Double         \n",
      "---------------------------------|------------------------|------------------------|------------------------\n"
     ]
    },
    {
     "ename": "NameError",
     "evalue": "name 'get_parenthood' is not defined",
     "output_type": "error",
     "traceback": [
      "\u001b[0;31m---------------------------------------------------------------------------\u001b[0m",
      "\u001b[0;31mNameError\u001b[0m                                 Traceback (most recent call last)",
      "\u001b[0;32m<ipython-input-33-5295123909f0>\u001b[0m in \u001b[0;36m<module>\u001b[0;34m\u001b[0m\n\u001b[0;32m----> 1\u001b[0;31m \u001b[0mprint_res\u001b[0m\u001b[0;34m(\u001b[0m\u001b[0mX_test\u001b[0m\u001b[0;34m[\u001b[0m\u001b[0;34m:\u001b[0m\u001b[0;36m1000\u001b[0m\u001b[0;34m]\u001b[0m\u001b[0;34m,\u001b[0m \u001b[0mY_test\u001b[0m\u001b[0;34m,\u001b[0m \u001b[0mmixed_model\u001b[0m\u001b[0;34m,\u001b[0m \u001b[0msingle_hyp_model\u001b[0m\u001b[0;34m,\u001b[0m \u001b[0mhyp_regr\u001b[0m\u001b[0;34m,\u001b[0m \u001b[0;34m'hyper'\u001b[0m\u001b[0;34m,\u001b[0m \u001b[0;34m'mean'\u001b[0m\u001b[0;34m,\u001b[0m \u001b[0;34m'quantile'\u001b[0m\u001b[0;34m)\u001b[0m\u001b[0;34m\u001b[0m\u001b[0;34m\u001b[0m\u001b[0m\n\u001b[0m",
      "\u001b[0;32m<ipython-input-29-1222a0df27cd>\u001b[0m in \u001b[0;36mprint_res\u001b[0;34m(X_test, Y_test, double, single, rfr, mode, measure, t)\u001b[0m\n\u001b[1;32m     99\u001b[0m         \u001b[0mret_dic\u001b[0m \u001b[0;34m=\u001b[0m \u001b[0mdistances\u001b[0m\u001b[0;34m(\u001b[0m\u001b[0mY_test\u001b[0m\u001b[0;34m,\u001b[0m \u001b[0mrfr_pred\u001b[0m\u001b[0;34m,\u001b[0m \u001b[0msingle_pred\u001b[0m\u001b[0;34m,\u001b[0m \u001b[0mdouble_pred\u001b[0m\u001b[0;34m,\u001b[0m \u001b[0mmode\u001b[0m\u001b[0;34m,\u001b[0m \u001b[0mmeasure\u001b[0m\u001b[0;34m)\u001b[0m\u001b[0;34m\u001b[0m\u001b[0;34m\u001b[0m\u001b[0m\n\u001b[1;32m    100\u001b[0m     \u001b[0;32melse\u001b[0m\u001b[0;34m:\u001b[0m\u001b[0;34m\u001b[0m\u001b[0;34m\u001b[0m\u001b[0m\n\u001b[0;32m--> 101\u001b[0;31m         \u001b[0mret_dic\u001b[0m \u001b[0;34m=\u001b[0m \u001b[0mquantiles\u001b[0m\u001b[0;34m(\u001b[0m\u001b[0mY_test\u001b[0m\u001b[0;34m,\u001b[0m \u001b[0mrfr_pred\u001b[0m\u001b[0;34m,\u001b[0m \u001b[0msingle_pred\u001b[0m\u001b[0;34m,\u001b[0m \u001b[0mdouble_pred\u001b[0m\u001b[0;34m,\u001b[0m \u001b[0mmode\u001b[0m\u001b[0;34m,\u001b[0m \u001b[0mmeasure\u001b[0m\u001b[0;34m)\u001b[0m\u001b[0;34m\u001b[0m\u001b[0;34m\u001b[0m\u001b[0m\n\u001b[0m\u001b[1;32m    102\u001b[0m     \u001b[0;32mfor\u001b[0m \u001b[0mc\u001b[0m \u001b[0;32min\u001b[0m \u001b[0mret_dic\u001b[0m\u001b[0;34m[\u001b[0m\u001b[0;34m'rfr'\u001b[0m\u001b[0;34m]\u001b[0m\u001b[0;34m.\u001b[0m\u001b[0mkeys\u001b[0m\u001b[0;34m(\u001b[0m\u001b[0;34m)\u001b[0m\u001b[0;34m:\u001b[0m\u001b[0;34m\u001b[0m\u001b[0;34m\u001b[0m\u001b[0m\n\u001b[1;32m    103\u001b[0m         \u001b[0mprint\u001b[0m\u001b[0;34m(\u001b[0m\u001b[0;34m'{:^33}|{:^24.4f}|{:^24.4f}|{:^24.4f}'\u001b[0m\u001b[0;34m.\u001b[0m\u001b[0mformat\u001b[0m\u001b[0;34m(\u001b[0m\u001b[0mc\u001b[0m\u001b[0;34m,\u001b[0m \u001b[0mret_dic\u001b[0m\u001b[0;34m[\u001b[0m\u001b[0;34m'rfr'\u001b[0m\u001b[0;34m]\u001b[0m\u001b[0;34m[\u001b[0m\u001b[0mc\u001b[0m\u001b[0;34m]\u001b[0m\u001b[0;34m,\u001b[0m \u001b[0mret_dic\u001b[0m\u001b[0;34m[\u001b[0m\u001b[0;34m'single'\u001b[0m\u001b[0;34m]\u001b[0m\u001b[0;34m[\u001b[0m\u001b[0mc\u001b[0m\u001b[0;34m]\u001b[0m\u001b[0;34m,\u001b[0m \u001b[0mret_dic\u001b[0m\u001b[0;34m[\u001b[0m\u001b[0;34m'double'\u001b[0m\u001b[0;34m]\u001b[0m\u001b[0;34m[\u001b[0m\u001b[0mc\u001b[0m\u001b[0;34m]\u001b[0m\u001b[0;34m)\u001b[0m\u001b[0;34m)\u001b[0m\u001b[0;34m\u001b[0m\u001b[0;34m\u001b[0m\u001b[0m\n",
      "\u001b[0;32m<ipython-input-29-1222a0df27cd>\u001b[0m in \u001b[0;36mquantiles\u001b[0;34m(Y_test, rfr_pred, single_pred, double_pred, mode, measure)\u001b[0m\n\u001b[1;32m    133\u001b[0m \u001b[0;31m#     print(cs)\u001b[0m\u001b[0;34m\u001b[0m\u001b[0;34m\u001b[0m\u001b[0;34m\u001b[0m\u001b[0m\n\u001b[1;32m    134\u001b[0m     \u001b[0;32mif\u001b[0m \u001b[0mmode\u001b[0m \u001b[0;34m==\u001b[0m \u001b[0;34m'hyper'\u001b[0m\u001b[0;34m:\u001b[0m\u001b[0;34m\u001b[0m\u001b[0;34m\u001b[0m\u001b[0m\n\u001b[0;32m--> 135\u001b[0;31m         \u001b[0mparenthood\u001b[0m \u001b[0;34m=\u001b[0m \u001b[0mget_parenthood\u001b[0m\u001b[0;34m(\u001b[0m\u001b[0mcs\u001b[0m\u001b[0;34m)\u001b[0m\u001b[0;34m\u001b[0m\u001b[0;34m\u001b[0m\u001b[0m\n\u001b[0m\u001b[1;32m    136\u001b[0m \u001b[0;34m\u001b[0m\u001b[0m\n\u001b[1;32m    137\u001b[0m     \u001b[0;32mfor\u001b[0m \u001b[0mmodel\u001b[0m\u001b[0;34m,\u001b[0m \u001b[0mpreds\u001b[0m \u001b[0;32min\u001b[0m \u001b[0mzip\u001b[0m\u001b[0;34m(\u001b[0m\u001b[0mmodels\u001b[0m\u001b[0;34m,\u001b[0m\u001b[0;34m[\u001b[0m\u001b[0mrfr_pred\u001b[0m\u001b[0;34m,\u001b[0m \u001b[0msingle_pred\u001b[0m\u001b[0;34m,\u001b[0m \u001b[0mdouble_pred\u001b[0m\u001b[0;34m]\u001b[0m\u001b[0;34m)\u001b[0m\u001b[0;34m:\u001b[0m\u001b[0;34m\u001b[0m\u001b[0;34m\u001b[0m\u001b[0m\n",
      "\u001b[0;31mNameError\u001b[0m: name 'get_parenthood' is not defined"
     ]
    }
   ],
   "source": [
    "print_res(X_test[:1000], Y_test, mixed_model, single_hyp_model, hyp_regr, 'hyper', 'mean', 'quantile')"
   ]
  },
  {
   "cell_type": "markdown",
   "metadata": {},
   "source": [
    "#### Here we print the mean position of EACH IMPUTED CONCEPT w.r.t the real one or one of its ancestor in the hierarchical space\n",
    "##### By the comparison between this table and the following we can see the noisyness of the single predictions quality with respect to the imputation quality"
   ]
  },
  {
   "cell_type": "code",
   "execution_count": 375,
   "metadata": {},
   "outputs": [
    {
     "name": "stdout",
     "output_type": "stream",
     "text": [
      "-----------------------------------------------------------------------------------------------------------\n",
      "                                     Hyperbolic centroid predictions                                     \n",
      "-----------------------------------------------------------------------------------------------------------\n",
      "              Class              |          RFR           |         Single         |         Double         \n",
      "---------------------------------|------------------------|------------------------|------------------------\n",
      "            Language             |         5.0000         |         1.0000         |         2.0000         \n",
      "       FictionalCharacter        |        280.0000        |        134.0000        |        277.0000        \n",
      "              Bird               |        528.0000        |        333.0000        |        502.0000        \n",
      "             Planet              |        230.0000        |        112.0000        |        238.0000        \n",
      "              Award              |         2.0000         |         1.0000         |         3.0000         \n",
      "              Sport              |        90.0000         |        60.0000         |        82.0000         \n",
      "           EthnicGroup           |        24.0000         |         2.0000         |         4.0000         \n",
      "             Insect              |        563.0000        |        500.0000        |        587.0000        \n",
      "           SportsTeam            |        252.0000        |        130.0000        |        257.0000        \n",
      "     ArchitecturalStructure      |        55.0000         |        13.0000         |        53.0000         \n",
      "             Company             |        173.0000        |        85.0000         |        122.0000        \n",
      "             Weapon              |        91.0000         |        65.0000         |        92.0000         \n",
      "              Plant              |        234.0000        |        104.0000        |        231.0000        \n",
      "             Colour              |         2.0000         |         1.0000         |         2.0000         \n",
      "             Mammal              |        567.0000        |        421.0000        |        588.0000        \n",
      "-----------------------------------------------------------------------------------------------------------\n",
      "   global centroid distance :    |        206.4000        |        130.8000        |        202.6667        \n"
     ]
    }
   ],
   "source": [
    "print_res(X_test, Y_test, mixed_model, single_hyp_model, hyp_regr, 'hyper', 'centroid', 'quantile')"
   ]
  },
  {
   "cell_type": "markdown",
   "metadata": {},
   "source": [
    "## Invention Evaluation (same of above but with the invention concepts, so with unseen concepts)"
   ]
  },
  {
   "cell_type": "markdown",
   "metadata": {},
   "source": [
    "### We expect worst but coherent results w.r.t the previous (seen concepts)"
   ]
  },
  {
   "cell_type": "code",
   "execution_count": 36,
   "metadata": {},
   "outputs": [],
   "source": [
    "X_invention = load_data_with_pickle('/datahdd/vmanuel/datasets/invention_datasets/16_classes/X_invention_1')\n",
    "Y_invention = load_data_with_pickle('/datahdd/vmanuel/datasets/invention_datasets/16_classes/Y_invention_1')"
   ]
  },
  {
   "cell_type": "code",
   "execution_count": 37,
   "metadata": {},
   "outputs": [
    {
     "data": {
      "text/plain": [
       "Counter({'Fish': 737,\n",
       "         'GovernmentAgency': 1954,\n",
       "         'Game': 991,\n",
       "         'Reptile': 414,\n",
       "         'Mollusca': 360,\n",
       "         'Crustacean': 140,\n",
       "         'Amphibian': 78,\n",
       "         'SportsLeague': 41,\n",
       "         'Currency': 298,\n",
       "         'EducationalInstitution': 49})"
      ]
     },
     "execution_count": 37,
     "metadata": {},
     "output_type": "execute_result"
    }
   ],
   "source": [
    "Counter(Y_invention)"
   ]
  },
  {
   "cell_type": "code",
   "execution_count": 38,
   "metadata": {},
   "outputs": [
    {
     "name": "stdout",
     "output_type": "stream",
     "text": [
      "-----------------------------------------------------------------------------------------------------------\n",
      "                                  Rank of Distributional mean distance                                   \n",
      "-----------------------------------------------------------------------------------------------------------\n",
      "              Class              |          RFR           |         Single         |         Double         \n",
      "---------------------------------|------------------------|------------------------|------------------------\n",
      "            Mollusca             |        145.5833        |        139.6500        |        152.0528        \n",
      "           Crustacean            |        55.5143         |        33.5357         |        34.1357         \n",
      "            Currency             |        169.5537        |        59.0671         |        65.1342         \n",
      "             Reptile             |        31.7077         |        24.9444         |        20.9831         \n",
      "              Game               |        162.1140        |        150.2301        |        167.1968        \n",
      "          SportsLeague           |        169.1951        |        107.7317        |        116.4878        \n",
      "            Amphibian            |        132.1923        |        67.6538         |        47.4231         \n",
      "              Fish               |        73.7951         |        46.6649         |        49.9539         \n",
      "     EducationalInstitution      |        127.8367        |        131.9184        |        141.6122        \n",
      "        GovernmentAgency         |        313.8178        |        316.8961        |        275.8557        \n",
      "-----------------------------------------------------------------------------------------------------------\n",
      "     global mean distance :      |        192.6205        |        177.9612        |        166.7251        \n"
     ]
    }
   ],
   "source": [
    "print_res(X_invention, Y_invention, mixed_model, single_dis_model, dis_regr, 'cosine', 'mean', 'quantile')"
   ]
  },
  {
   "cell_type": "code",
   "execution_count": 39,
   "metadata": {},
   "outputs": [
    {
     "name": "stdout",
     "output_type": "stream",
     "text": [
      "-----------------------------------------------------------------------------------------------------------\n",
      "                               Rank of Distributional centroid predictions                               \n",
      "-----------------------------------------------------------------------------------------------------------\n",
      "              Class              |          RFR           |         Single         |         Double         \n",
      "---------------------------------|------------------------|------------------------|------------------------\n",
      "            Mollusca             |        123.0000        |        114.0000        |        76.0000         \n",
      "           Crustacean            |        31.0000         |         7.0000         |        11.0000         \n",
      "            Currency             |        133.0000        |        47.0000         |        49.0000         \n",
      "             Reptile             |         7.0000         |         3.0000         |         4.0000         \n",
      "              Game               |        158.0000        |        127.0000        |        152.0000        \n",
      "          SportsLeague           |        162.0000        |        60.0000         |        71.0000         \n",
      "            Amphibian            |        98.0000         |        18.0000         |        21.0000         \n",
      "              Fish               |        40.0000         |        11.0000         |        10.0000         \n",
      "     EducationalInstitution      |        115.0000        |        116.0000        |        118.0000        \n",
      "        GovernmentAgency         |        319.0000        |        326.0000        |        289.0000        \n",
      "-----------------------------------------------------------------------------------------------------------\n",
      "   global centroid distance :    |        118.6000        |        82.9000         |        80.1000         \n"
     ]
    }
   ],
   "source": [
    "print_res(X_invention, Y_invention, mixed_model, single_dis_model, dis_regr, 'cosine', 'centroid', 'quantile')"
   ]
  },
  {
   "cell_type": "code",
   "execution_count": 40,
   "metadata": {},
   "outputs": [
    {
     "name": "stdout",
     "output_type": "stream",
     "text": [
      "-----------------------------------------------------------------------------------------------------------\n",
      "                                        Hyperbolic mean distance                                         \n",
      "-----------------------------------------------------------------------------------------------------------\n",
      "              Class              |          RFR           |         Single         |         Double         \n",
      "---------------------------------|------------------------|------------------------|------------------------\n"
     ]
    },
    {
     "ename": "NameError",
     "evalue": "name 'get_parenthood' is not defined",
     "output_type": "error",
     "traceback": [
      "\u001b[0;31m---------------------------------------------------------------------------\u001b[0m",
      "\u001b[0;31mNameError\u001b[0m                                 Traceback (most recent call last)",
      "\u001b[0;32m<ipython-input-40-0ce3ea921dc9>\u001b[0m in \u001b[0;36m<module>\u001b[0;34m\u001b[0m\n\u001b[0;32m----> 1\u001b[0;31m \u001b[0mprint_res\u001b[0m\u001b[0;34m(\u001b[0m\u001b[0mX_invention\u001b[0m\u001b[0;34m[\u001b[0m\u001b[0;36m1000\u001b[0m\u001b[0;34m:\u001b[0m\u001b[0;36m2000\u001b[0m\u001b[0;34m]\u001b[0m\u001b[0;34m,\u001b[0m \u001b[0mY_invention\u001b[0m\u001b[0;34m,\u001b[0m \u001b[0mmixed_model\u001b[0m\u001b[0;34m,\u001b[0m \u001b[0msingle_hyp_model\u001b[0m\u001b[0;34m,\u001b[0m \u001b[0mhyp_regr\u001b[0m\u001b[0;34m,\u001b[0m \u001b[0;34m'hyper'\u001b[0m\u001b[0;34m,\u001b[0m \u001b[0;34m'mean'\u001b[0m\u001b[0;34m,\u001b[0m \u001b[0;34m'quantile'\u001b[0m\u001b[0;34m)\u001b[0m\u001b[0;34m\u001b[0m\u001b[0;34m\u001b[0m\u001b[0m\n\u001b[0m",
      "\u001b[0;32m<ipython-input-29-1222a0df27cd>\u001b[0m in \u001b[0;36mprint_res\u001b[0;34m(X_test, Y_test, double, single, rfr, mode, measure, t)\u001b[0m\n\u001b[1;32m     99\u001b[0m         \u001b[0mret_dic\u001b[0m \u001b[0;34m=\u001b[0m \u001b[0mdistances\u001b[0m\u001b[0;34m(\u001b[0m\u001b[0mY_test\u001b[0m\u001b[0;34m,\u001b[0m \u001b[0mrfr_pred\u001b[0m\u001b[0;34m,\u001b[0m \u001b[0msingle_pred\u001b[0m\u001b[0;34m,\u001b[0m \u001b[0mdouble_pred\u001b[0m\u001b[0;34m,\u001b[0m \u001b[0mmode\u001b[0m\u001b[0;34m,\u001b[0m \u001b[0mmeasure\u001b[0m\u001b[0;34m)\u001b[0m\u001b[0;34m\u001b[0m\u001b[0;34m\u001b[0m\u001b[0m\n\u001b[1;32m    100\u001b[0m     \u001b[0;32melse\u001b[0m\u001b[0;34m:\u001b[0m\u001b[0;34m\u001b[0m\u001b[0;34m\u001b[0m\u001b[0m\n\u001b[0;32m--> 101\u001b[0;31m         \u001b[0mret_dic\u001b[0m \u001b[0;34m=\u001b[0m \u001b[0mquantiles\u001b[0m\u001b[0;34m(\u001b[0m\u001b[0mY_test\u001b[0m\u001b[0;34m,\u001b[0m \u001b[0mrfr_pred\u001b[0m\u001b[0;34m,\u001b[0m \u001b[0msingle_pred\u001b[0m\u001b[0;34m,\u001b[0m \u001b[0mdouble_pred\u001b[0m\u001b[0;34m,\u001b[0m \u001b[0mmode\u001b[0m\u001b[0;34m,\u001b[0m \u001b[0mmeasure\u001b[0m\u001b[0;34m)\u001b[0m\u001b[0;34m\u001b[0m\u001b[0;34m\u001b[0m\u001b[0m\n\u001b[0m\u001b[1;32m    102\u001b[0m     \u001b[0;32mfor\u001b[0m \u001b[0mc\u001b[0m \u001b[0;32min\u001b[0m \u001b[0mret_dic\u001b[0m\u001b[0;34m[\u001b[0m\u001b[0;34m'rfr'\u001b[0m\u001b[0;34m]\u001b[0m\u001b[0;34m.\u001b[0m\u001b[0mkeys\u001b[0m\u001b[0;34m(\u001b[0m\u001b[0;34m)\u001b[0m\u001b[0;34m:\u001b[0m\u001b[0;34m\u001b[0m\u001b[0;34m\u001b[0m\u001b[0m\n\u001b[1;32m    103\u001b[0m         \u001b[0mprint\u001b[0m\u001b[0;34m(\u001b[0m\u001b[0;34m'{:^33}|{:^24.4f}|{:^24.4f}|{:^24.4f}'\u001b[0m\u001b[0;34m.\u001b[0m\u001b[0mformat\u001b[0m\u001b[0;34m(\u001b[0m\u001b[0mc\u001b[0m\u001b[0;34m,\u001b[0m \u001b[0mret_dic\u001b[0m\u001b[0;34m[\u001b[0m\u001b[0;34m'rfr'\u001b[0m\u001b[0;34m]\u001b[0m\u001b[0;34m[\u001b[0m\u001b[0mc\u001b[0m\u001b[0;34m]\u001b[0m\u001b[0;34m,\u001b[0m \u001b[0mret_dic\u001b[0m\u001b[0;34m[\u001b[0m\u001b[0;34m'single'\u001b[0m\u001b[0;34m]\u001b[0m\u001b[0;34m[\u001b[0m\u001b[0mc\u001b[0m\u001b[0;34m]\u001b[0m\u001b[0;34m,\u001b[0m \u001b[0mret_dic\u001b[0m\u001b[0;34m[\u001b[0m\u001b[0;34m'double'\u001b[0m\u001b[0;34m]\u001b[0m\u001b[0;34m[\u001b[0m\u001b[0mc\u001b[0m\u001b[0;34m]\u001b[0m\u001b[0;34m)\u001b[0m\u001b[0;34m)\u001b[0m\u001b[0;34m\u001b[0m\u001b[0;34m\u001b[0m\u001b[0m\n",
      "\u001b[0;32m<ipython-input-29-1222a0df27cd>\u001b[0m in \u001b[0;36mquantiles\u001b[0;34m(Y_test, rfr_pred, single_pred, double_pred, mode, measure)\u001b[0m\n\u001b[1;32m    133\u001b[0m \u001b[0;31m#     print(cs)\u001b[0m\u001b[0;34m\u001b[0m\u001b[0;34m\u001b[0m\u001b[0;34m\u001b[0m\u001b[0m\n\u001b[1;32m    134\u001b[0m     \u001b[0;32mif\u001b[0m \u001b[0mmode\u001b[0m \u001b[0;34m==\u001b[0m \u001b[0;34m'hyper'\u001b[0m\u001b[0;34m:\u001b[0m\u001b[0;34m\u001b[0m\u001b[0;34m\u001b[0m\u001b[0m\n\u001b[0;32m--> 135\u001b[0;31m         \u001b[0mparenthood\u001b[0m \u001b[0;34m=\u001b[0m \u001b[0mget_parenthood\u001b[0m\u001b[0;34m(\u001b[0m\u001b[0mcs\u001b[0m\u001b[0;34m)\u001b[0m\u001b[0;34m\u001b[0m\u001b[0;34m\u001b[0m\u001b[0m\n\u001b[0m\u001b[1;32m    136\u001b[0m \u001b[0;34m\u001b[0m\u001b[0m\n\u001b[1;32m    137\u001b[0m     \u001b[0;32mfor\u001b[0m \u001b[0mmodel\u001b[0m\u001b[0;34m,\u001b[0m \u001b[0mpreds\u001b[0m \u001b[0;32min\u001b[0m \u001b[0mzip\u001b[0m\u001b[0;34m(\u001b[0m\u001b[0mmodels\u001b[0m\u001b[0;34m,\u001b[0m\u001b[0;34m[\u001b[0m\u001b[0mrfr_pred\u001b[0m\u001b[0;34m,\u001b[0m \u001b[0msingle_pred\u001b[0m\u001b[0;34m,\u001b[0m \u001b[0mdouble_pred\u001b[0m\u001b[0;34m]\u001b[0m\u001b[0;34m)\u001b[0m\u001b[0;34m:\u001b[0m\u001b[0;34m\u001b[0m\u001b[0;34m\u001b[0m\u001b[0m\n",
      "\u001b[0;31mNameError\u001b[0m: name 'get_parenthood' is not defined"
     ]
    }
   ],
   "source": [
    "print_res(X_invention[1000:2000], Y_invention, mixed_model, single_hyp_model, hyp_regr, 'hyper', 'mean', 'quantile')"
   ]
  },
  {
   "cell_type": "code",
   "execution_count": 41,
   "metadata": {},
   "outputs": [
    {
     "name": "stdout",
     "output_type": "stream",
     "text": [
      "-----------------------------------------------------------------------------------------------------------\n",
      "                                     Hyperbolic centroid predictions                                     \n",
      "-----------------------------------------------------------------------------------------------------------\n",
      "              Class              |          RFR           |         Single         |         Double         \n",
      "---------------------------------|------------------------|------------------------|------------------------\n"
     ]
    },
    {
     "ename": "NameError",
     "evalue": "name 'get_parenthood' is not defined",
     "output_type": "error",
     "traceback": [
      "\u001b[0;31m---------------------------------------------------------------------------\u001b[0m",
      "\u001b[0;31mNameError\u001b[0m                                 Traceback (most recent call last)",
      "\u001b[0;32m<ipython-input-41-51ac17093df3>\u001b[0m in \u001b[0;36m<module>\u001b[0;34m\u001b[0m\n\u001b[0;32m----> 1\u001b[0;31m \u001b[0mprint_res\u001b[0m\u001b[0;34m(\u001b[0m\u001b[0mX_invention\u001b[0m\u001b[0;34m,\u001b[0m \u001b[0mY_invention\u001b[0m\u001b[0;34m,\u001b[0m \u001b[0mmixed_model\u001b[0m\u001b[0;34m,\u001b[0m \u001b[0msingle_hyp_model\u001b[0m\u001b[0;34m,\u001b[0m \u001b[0mhyp_regr\u001b[0m\u001b[0;34m,\u001b[0m \u001b[0;34m'hyper'\u001b[0m\u001b[0;34m,\u001b[0m \u001b[0;34m'centroid'\u001b[0m\u001b[0;34m,\u001b[0m \u001b[0;34m'quantile'\u001b[0m\u001b[0;34m)\u001b[0m\u001b[0;34m\u001b[0m\u001b[0;34m\u001b[0m\u001b[0m\n\u001b[0m",
      "\u001b[0;32m<ipython-input-29-1222a0df27cd>\u001b[0m in \u001b[0;36mprint_res\u001b[0;34m(X_test, Y_test, double, single, rfr, mode, measure, t)\u001b[0m\n\u001b[1;32m     99\u001b[0m         \u001b[0mret_dic\u001b[0m \u001b[0;34m=\u001b[0m \u001b[0mdistances\u001b[0m\u001b[0;34m(\u001b[0m\u001b[0mY_test\u001b[0m\u001b[0;34m,\u001b[0m \u001b[0mrfr_pred\u001b[0m\u001b[0;34m,\u001b[0m \u001b[0msingle_pred\u001b[0m\u001b[0;34m,\u001b[0m \u001b[0mdouble_pred\u001b[0m\u001b[0;34m,\u001b[0m \u001b[0mmode\u001b[0m\u001b[0;34m,\u001b[0m \u001b[0mmeasure\u001b[0m\u001b[0;34m)\u001b[0m\u001b[0;34m\u001b[0m\u001b[0;34m\u001b[0m\u001b[0m\n\u001b[1;32m    100\u001b[0m     \u001b[0;32melse\u001b[0m\u001b[0;34m:\u001b[0m\u001b[0;34m\u001b[0m\u001b[0;34m\u001b[0m\u001b[0m\n\u001b[0;32m--> 101\u001b[0;31m         \u001b[0mret_dic\u001b[0m \u001b[0;34m=\u001b[0m \u001b[0mquantiles\u001b[0m\u001b[0;34m(\u001b[0m\u001b[0mY_test\u001b[0m\u001b[0;34m,\u001b[0m \u001b[0mrfr_pred\u001b[0m\u001b[0;34m,\u001b[0m \u001b[0msingle_pred\u001b[0m\u001b[0;34m,\u001b[0m \u001b[0mdouble_pred\u001b[0m\u001b[0;34m,\u001b[0m \u001b[0mmode\u001b[0m\u001b[0;34m,\u001b[0m \u001b[0mmeasure\u001b[0m\u001b[0;34m)\u001b[0m\u001b[0;34m\u001b[0m\u001b[0;34m\u001b[0m\u001b[0m\n\u001b[0m\u001b[1;32m    102\u001b[0m     \u001b[0;32mfor\u001b[0m \u001b[0mc\u001b[0m \u001b[0;32min\u001b[0m \u001b[0mret_dic\u001b[0m\u001b[0;34m[\u001b[0m\u001b[0;34m'rfr'\u001b[0m\u001b[0;34m]\u001b[0m\u001b[0;34m.\u001b[0m\u001b[0mkeys\u001b[0m\u001b[0;34m(\u001b[0m\u001b[0;34m)\u001b[0m\u001b[0;34m:\u001b[0m\u001b[0;34m\u001b[0m\u001b[0;34m\u001b[0m\u001b[0m\n\u001b[1;32m    103\u001b[0m         \u001b[0mprint\u001b[0m\u001b[0;34m(\u001b[0m\u001b[0;34m'{:^33}|{:^24.4f}|{:^24.4f}|{:^24.4f}'\u001b[0m\u001b[0;34m.\u001b[0m\u001b[0mformat\u001b[0m\u001b[0;34m(\u001b[0m\u001b[0mc\u001b[0m\u001b[0;34m,\u001b[0m \u001b[0mret_dic\u001b[0m\u001b[0;34m[\u001b[0m\u001b[0;34m'rfr'\u001b[0m\u001b[0;34m]\u001b[0m\u001b[0;34m[\u001b[0m\u001b[0mc\u001b[0m\u001b[0;34m]\u001b[0m\u001b[0;34m,\u001b[0m \u001b[0mret_dic\u001b[0m\u001b[0;34m[\u001b[0m\u001b[0;34m'single'\u001b[0m\u001b[0;34m]\u001b[0m\u001b[0;34m[\u001b[0m\u001b[0mc\u001b[0m\u001b[0;34m]\u001b[0m\u001b[0;34m,\u001b[0m \u001b[0mret_dic\u001b[0m\u001b[0;34m[\u001b[0m\u001b[0;34m'double'\u001b[0m\u001b[0;34m]\u001b[0m\u001b[0;34m[\u001b[0m\u001b[0mc\u001b[0m\u001b[0;34m]\u001b[0m\u001b[0;34m)\u001b[0m\u001b[0;34m)\u001b[0m\u001b[0;34m\u001b[0m\u001b[0;34m\u001b[0m\u001b[0m\n",
      "\u001b[0;32m<ipython-input-29-1222a0df27cd>\u001b[0m in \u001b[0;36mquantiles\u001b[0;34m(Y_test, rfr_pred, single_pred, double_pred, mode, measure)\u001b[0m\n\u001b[1;32m    133\u001b[0m \u001b[0;31m#     print(cs)\u001b[0m\u001b[0;34m\u001b[0m\u001b[0;34m\u001b[0m\u001b[0;34m\u001b[0m\u001b[0m\n\u001b[1;32m    134\u001b[0m     \u001b[0;32mif\u001b[0m \u001b[0mmode\u001b[0m \u001b[0;34m==\u001b[0m \u001b[0;34m'hyper'\u001b[0m\u001b[0;34m:\u001b[0m\u001b[0;34m\u001b[0m\u001b[0;34m\u001b[0m\u001b[0m\n\u001b[0;32m--> 135\u001b[0;31m         \u001b[0mparenthood\u001b[0m \u001b[0;34m=\u001b[0m \u001b[0mget_parenthood\u001b[0m\u001b[0;34m(\u001b[0m\u001b[0mcs\u001b[0m\u001b[0;34m)\u001b[0m\u001b[0;34m\u001b[0m\u001b[0;34m\u001b[0m\u001b[0m\n\u001b[0m\u001b[1;32m    136\u001b[0m \u001b[0;34m\u001b[0m\u001b[0m\n\u001b[1;32m    137\u001b[0m     \u001b[0;32mfor\u001b[0m \u001b[0mmodel\u001b[0m\u001b[0;34m,\u001b[0m \u001b[0mpreds\u001b[0m \u001b[0;32min\u001b[0m \u001b[0mzip\u001b[0m\u001b[0;34m(\u001b[0m\u001b[0mmodels\u001b[0m\u001b[0;34m,\u001b[0m\u001b[0;34m[\u001b[0m\u001b[0mrfr_pred\u001b[0m\u001b[0;34m,\u001b[0m \u001b[0msingle_pred\u001b[0m\u001b[0;34m,\u001b[0m \u001b[0mdouble_pred\u001b[0m\u001b[0;34m]\u001b[0m\u001b[0;34m)\u001b[0m\u001b[0;34m:\u001b[0m\u001b[0;34m\u001b[0m\u001b[0;34m\u001b[0m\u001b[0m\n",
      "\u001b[0;31mNameError\u001b[0m: name 'get_parenthood' is not defined"
     ]
    }
   ],
   "source": [
    "print_res(X_invention, Y_invention, mixed_model, single_hyp_model, hyp_regr, 'hyper', 'centroid', 'quantile')"
   ]
  },
  {
   "cell_type": "markdown",
   "metadata": {},
   "source": [
    "## Let's do some visualizations"
   ]
  },
  {
   "cell_type": "markdown",
   "metadata": {},
   "source": [
    "### Visualize all single prediction"
   ]
  },
  {
   "cell_type": "code",
   "execution_count": 42,
   "metadata": {},
   "outputs": [
    {
     "name": "stdout",
     "output_type": "stream",
     "text": [
      "100%\n"
     ]
    },
    {
     "data": {
      "image/png": "[encoded data removed]",
      "text/plain": [
       "<Figure size 720x720 with 1 Axes>"
      ]
     },
     "metadata": {
      "needs_background": "light"
     },
     "output_type": "display_data"
    }
   ],
   "source": [
    "\n",
    "plt.figure(figsize=(10,10))\n",
    "\n",
    "invention_classes = list(set(Y_invention))\n",
    "color_map = {cla: col for cla, col in zip(invention_classes, colors)}\n",
    "\n",
    "patchList = []\n",
    "for key in invention_classes:\n",
    "    data_key = mpatches.Patch(color=color_map[key], label=key)\n",
    "    patchList.append(data_key)\n",
    "\n",
    "for l, p in hyperbolic_embedding.items():\n",
    "    plt.scatter(p[0], p[1], c = 'y')\n",
    "    if l in invention_classes:\n",
    "        plt.scatter(p[0], p[1], c = 'r')\n",
    "        plt.text(p[0] + 0.02, p[1] + 0.02, l)\n",
    "\n",
    "class_plot = [hyperbolic_embedding[c] for c in invention_classes]\n",
    "        \n",
    "for i, c in enumerate(class_plot):\n",
    "    plt.scatter(c[0], c[1], color = color_map[invention_classes[i]])\n",
    "\n",
    "plt.legend(handles=patchList, bbox_to_anchor=(1, 0.7))\n",
    "\n",
    "n = 1000\n",
    "\n",
    "pred = mixed_model.predict(X_invention[:n])[1]\n",
    "\n",
    "mms = 0\n",
    "fhs = 0\n",
    "min_p = 0\n",
    "for i, c in enumerate(pred):\n",
    "    plt.scatter(c[0], c[1], color = color_map[Y_invention[i]])\n",
    "    \n",
    "    div = round(i/n , 2)\n",
    "    \n",
    "    if div != min_p:\n",
    "        min_p = div\n",
    "        clear_output()\n",
    "        print('{}%'.format(int(min_p*100)))\n"
   ]
  },
  {
   "cell_type": "markdown",
   "metadata": {},
   "source": [
    "### Compute Centroids of different models"
   ]
  },
  {
   "cell_type": "code",
   "execution_count": 49,
   "metadata": {},
   "outputs": [],
   "source": [
    "pred = mixed_model.predict(X_invention)[1]\n",
    "\n",
    "pred_dict = {c:[] for c in invention_classes}\n",
    "for i, p in enumerate(pred):\n",
    "#     if norm(p) < 1:\n",
    "        pred_dict[Y_invention[i]].append(p)\n",
    "\n",
    "for c in invention_classes:\n",
    "    centroids['double'][c] = midpoint(pred_dict[c])\n",
    "    \n",
    "\n",
    "pred = single_hyp_model.predict(X_invention)\n",
    "pred_dict = {c:[] for c in invention_classes}\n",
    "for i, p in enumerate(pred):\n",
    "#     if norm(p) < 1:\n",
    "        pred_dict[Y_invention[i]].append(p)\n",
    "\n",
    "for c in invention_classes:\n",
    "    centroids['single'][c] = midpoint(pred_dict[c])\n",
    "    \n",
    "pred = hyp_regr.predict(X_invention)\n",
    "pred_dict = {c:[] for c in invention_classes}\n",
    "for i, p in enumerate(pred):\n",
    "#     if norm(p) < 1:\n",
    "        pred_dict[Y_invention[i]].append(p)\n",
    "\n",
    "for c in invention_classes:\n",
    "    centroids['rfr'][c] = midpoint(pred_dict[c])\n"
   ]
  },
  {
   "cell_type": "markdown",
   "metadata": {},
   "source": [
    "### Plot centroids of each class, of each model"
   ]
  },
  {
   "cell_type": "code",
   "execution_count": 51,
   "metadata": {},
   "outputs": [],
   "source": [
    "patchList = []\n",
    "\n",
    "color, model = ['black', 'red', 'green'], ['single', 'double','rfr']\n",
    "\n",
    "for c, m in zip(color, model):\n",
    "    data_key = mpatches.Patch(color=c, label=m)\n",
    "    patchList.append(data_key)"
   ]
  },
  {
   "cell_type": "code",
   "execution_count": 52,
   "metadata": {},
   "outputs": [
    {
     "data": {
      "image/png": "[encoded data removed]",
      "text/plain": [
       "<Figure size 720x720 with 1 Axes>"
      ]
     },
     "metadata": {
      "needs_background": "light"
     },
     "output_type": "display_data"
    }
   ],
   "source": [
    "plt.figure(figsize=(10,10))\n",
    "\n",
    "patchList = []\n",
    "\n",
    "color, model = ['black', 'red', 'green'], ['single', 'double','rfr']\n",
    "\n",
    "for c, m in zip(color, model):\n",
    "    data_key = mpatches.Patch(color=c, label=m)\n",
    "    patchList.append(data_key)\n",
    "\n",
    "plt.legend(handles=patchList, bbox_to_anchor=(1, 0.7))    \n",
    "\n",
    "for l, p in zip(hyperbolic_embedding.keys(), hyperbolic_embedding.values()):\n",
    "    plt.scatter(p[0], p[1], c = '#d3d3d3')\n",
    "    if l in invention_classes:\n",
    "#         plt.scatter(p[0], p[1], c = color_map[l])\n",
    "        plt.text(p[0] + 0.02, p[1] + 0.02, l)\n",
    "\n",
    "class_plot = [hyperbolic_embedding[c] for c in invention_classes]\n",
    "        \n",
    "for i, c in enumerate(class_plot):\n",
    "    plt.scatter(c[0], c[1], color = 'b')\n",
    "\n",
    "for k,v in zip(centroids['double'].keys(), centroids['double'].values()):\n",
    "    if not np.isnan(v[0]):\n",
    "        plt.scatter(v[0], v[1], color = 'r')\n",
    "        plt.text(v[0] + 0.02, v[1] + 0.02, k)\n",
    "\n",
    "\n",
    "for k,v in zip(centroids['rfr'].keys(), centroids['rfr'].values()):\n",
    "    if not np.isnan(v[0]):\n",
    "        plt.scatter(v[0], v[1], color = 'g')\n",
    "        plt.text(v[0] + 0.02, v[1] + 0.02, k)\n",
    "        \n",
    "\n",
    "for k,v in zip(centroids['single'].keys(), centroids['single'].values()):\n",
    "    if not np.isnan(v[0]):\n",
    "        plt.scatter(v[0], v[1], color = 'k')\n",
    "        plt.text(v[0] + 0.02, v[1] + 0.02, k)\n",
    "    "
   ]
  },
  {
   "cell_type": "markdown",
   "metadata": {},
   "source": [
    "## Quality Pred"
   ]
  },
  {
   "cell_type": "markdown",
   "metadata": {},
   "source": [
    "### Go in Import_Elmo_Embeddings (go down) to see the retrieving"
   ]
  },
  {
   "cell_type": "code",
   "execution_count": 53,
   "metadata": {},
   "outputs": [],
   "source": [
    "quality_labels = load_data_with_pickle('/datahdd/vmanuel/datasets/invention_datasets/17_classes/quality_labels')\n",
    "quality_vectors = load_data_with_pickle('/datahdd/vmanuel/datasets/invention_datasets/17_classes/quality_vectors')"
   ]
  },
  {
   "cell_type": "code",
   "execution_count": 54,
   "metadata": {},
   "outputs": [],
   "source": [
    "hypred = mixed_model.predict(quality_vectors)[1]\n",
    "dispred = mixed_model.predict(quality_vectors)[0]"
   ]
  },
  {
   "cell_type": "code",
   "execution_count": 55,
   "metadata": {},
   "outputs": [],
   "source": [
    "occ = Counter(quality_labels)"
   ]
  },
  {
   "cell_type": "code",
   "execution_count": 56,
   "metadata": {},
   "outputs": [
    {
     "data": {
      "text/plain": [
       "Counter({'alchemy': 17, 'beaver': 194, 'jpeg': 29, 'algae': 112})"
      ]
     },
     "execution_count": 56,
     "metadata": {},
     "output_type": "execute_result"
    }
   ],
   "source": [
    "occ"
   ]
  },
  {
   "cell_type": "code",
   "execution_count": 57,
   "metadata": {},
   "outputs": [],
   "source": [
    "quality_map = {'alchemy': 'g',\n",
    "               'beaver': 'k',\n",
    "               'jpeg': 'b',\n",
    "               'algae': 'y'}"
   ]
  },
  {
   "cell_type": "code",
   "execution_count": 58,
   "metadata": {},
   "outputs": [],
   "source": [
    "m_beaver = midpoint(hypred[17:211])\n",
    "m_alchemy = midpoint(hypred[0:17])\n",
    "m_jpeg = midpoint(hypred[211:240])\n",
    "m_algae = midpoint(hypred[240:342])"
   ]
  },
  {
   "cell_type": "code",
   "execution_count": 59,
   "metadata": {},
   "outputs": [
    {
     "data": {
      "text/plain": [
       "(-1, 1)"
      ]
     },
     "execution_count": 59,
     "metadata": {},
     "output_type": "execute_result"
    },
    {
     "data": {
      "image/png": "[encoded data removed]",
      "text/plain": [
       "<Figure size 720x720 with 1 Axes>"
      ]
     },
     "metadata": {
      "needs_background": "light"
     },
     "output_type": "display_data"
    }
   ],
   "source": [
    "plt.figure(figsize=(10, 10))\n",
    "for i, p in enumerate(hypred):\n",
    "    plt.scatter(p[0], p[1], c = quality_map[quality_labels[i]])\n",
    "    \n",
    "for p in hyperbolic_embedding.values():\n",
    "    plt.scatter(p[0], p[1], c = 'r')\n",
    "    \n",
    "plt.scatter(m_alchemy[0], m_alchemy[1], c='tab:orange')\n",
    "plt.text(m_alchemy[0], m_alchemy[1], s='alchemy')\n",
    "\n",
    "plt.scatter(m_beaver[0], m_beaver[1], c='tab:orange')\n",
    "plt.text(m_beaver[0], m_beaver[1], s='beaver')\n",
    "\n",
    "plt.scatter(m_jpeg[0], m_jpeg[1], c='tab:orange')\n",
    "plt.text(m_jpeg[0], m_jpeg[1], s='jpeg')\n",
    "\n",
    "plt.xlim(-1, 1)\n",
    "plt.ylim(-1, 1)"
   ]
  },
  {
   "cell_type": "code",
   "execution_count": 60,
   "metadata": {},
   "outputs": [
    {
     "ename": "KeyError",
     "evalue": "'model'",
     "output_type": "error",
     "traceback": [
      "\u001b[0;31m---------------------------------------------------------------------------\u001b[0m",
      "\u001b[0;31mKeyError\u001b[0m                                  Traceback (most recent call last)",
      "\u001b[0;32m<ipython-input-60-6da1fe2d3d11>\u001b[0m in \u001b[0;36m<module>\u001b[0;34m\u001b[0m\n\u001b[1;32m      4\u001b[0m                                  \u001b[0mmode\u001b[0m\u001b[0;34m=\u001b[0m\u001b[0;34m'hyper'\u001b[0m\u001b[0;34m,\u001b[0m\u001b[0;34m\u001b[0m\u001b[0;34m\u001b[0m\u001b[0m\n\u001b[1;32m      5\u001b[0m                                  \u001b[0mtopn\u001b[0m\u001b[0;34m=\u001b[0m\u001b[0;36m10\u001b[0m\u001b[0;34m,\u001b[0m\u001b[0;34m\u001b[0m\u001b[0;34m\u001b[0m\u001b[0m\n\u001b[0;32m----> 6\u001b[0;31m                                  tensors=tensors)\n\u001b[0m",
      "\u001b[0;32m~/Notebooks/mixed_regression_functions.py\u001b[0m in \u001b[0;36mfind_neighbours\u001b[0;34m(vector, model, mode, tensors, topn)\u001b[0m\n\u001b[1;32m    193\u001b[0m     \u001b[0mnode_distances\u001b[0m \u001b[0;34m=\u001b[0m \u001b[0;34m[\u001b[0m\u001b[0;34m]\u001b[0m\u001b[0;34m\u001b[0m\u001b[0;34m\u001b[0m\u001b[0m\n\u001b[1;32m    194\u001b[0m     \u001b[0;32mif\u001b[0m \u001b[0mmode\u001b[0m\u001b[0;34m==\u001b[0m\u001b[0;34m'hyper'\u001b[0m\u001b[0;34m:\u001b[0m\u001b[0;34m\u001b[0m\u001b[0;34m\u001b[0m\u001b[0m\n\u001b[0;32m--> 195\u001b[0;31m         \u001b[0mtensors\u001b[0m \u001b[0;34m=\u001b[0m \u001b[0;34m[\u001b[0m\u001b[0mv\u001b[0m\u001b[0;34m.\u001b[0m\u001b[0mnumpy\u001b[0m\u001b[0;34m(\u001b[0m\u001b[0;34m)\u001b[0m \u001b[0;32mfor\u001b[0m \u001b[0mv\u001b[0m \u001b[0;32min\u001b[0m \u001b[0mlist\u001b[0m\u001b[0;34m(\u001b[0m\u001b[0mmodel\u001b[0m\u001b[0;34m[\u001b[0m\u001b[0;34m'model'\u001b[0m\u001b[0;34m]\u001b[0m\u001b[0;34m.\u001b[0m\u001b[0mitems\u001b[0m\u001b[0;34m(\u001b[0m\u001b[0;34m)\u001b[0m\u001b[0;34m)\u001b[0m\u001b[0;34m[\u001b[0m\u001b[0;36m0\u001b[0m\u001b[0;34m]\u001b[0m\u001b[0;34m[\u001b[0m\u001b[0;36m1\u001b[0m\u001b[0;34m]\u001b[0m\u001b[0;34m]\u001b[0m\u001b[0;34m\u001b[0m\u001b[0;34m\u001b[0m\u001b[0m\n\u001b[0m\u001b[1;32m    196\u001b[0m         \u001b[0md\u001b[0m \u001b[0;34m=\u001b[0m \u001b[0mcdist\u001b[0m\u001b[0;34m(\u001b[0m\u001b[0;34m[\u001b[0m\u001b[0mvector\u001b[0m\u001b[0;34m]\u001b[0m\u001b[0;34m,\u001b[0m \u001b[0mtensors\u001b[0m\u001b[0;34m,\u001b[0m \u001b[0mhyper_distance\u001b[0m\u001b[0;34m)\u001b[0m\u001b[0;34m\u001b[0m\u001b[0;34m\u001b[0m\u001b[0m\n\u001b[1;32m    197\u001b[0m         \u001b[0mnode_distances\u001b[0m \u001b[0;34m=\u001b[0m \u001b[0;34m[\u001b[0m\u001b[0;34m[\u001b[0m\u001b[0mlabel\u001b[0m\u001b[0;34m,\u001b[0m \u001b[0mdistance\u001b[0m\u001b[0;34m]\u001b[0m \u001b[0;32mfor\u001b[0m \u001b[0mlabel\u001b[0m\u001b[0;34m,\u001b[0m \u001b[0mdistance\u001b[0m \u001b[0;32min\u001b[0m \u001b[0mzip\u001b[0m\u001b[0;34m(\u001b[0m\u001b[0mmodel\u001b[0m\u001b[0;34m[\u001b[0m\u001b[0;34m'objects'\u001b[0m\u001b[0;34m]\u001b[0m\u001b[0;34m,\u001b[0m \u001b[0md\u001b[0m\u001b[0;34m[\u001b[0m\u001b[0;36m0\u001b[0m\u001b[0;34m]\u001b[0m\u001b[0;34m)\u001b[0m\u001b[0;34m]\u001b[0m\u001b[0;34m\u001b[0m\u001b[0;34m\u001b[0m\u001b[0m\n",
      "\u001b[0;31mKeyError\u001b[0m: 'model'"
     ]
    }
   ],
   "source": [
    "tensors = [v for v in hyperbolic_embedding.values()]\n",
    "hyper_neigh = find_neighbours(vector=m_algae,\n",
    "                                 model=hyperbolic_embedding, \n",
    "                                 mode='hyper',\n",
    "                                 topn=10,\n",
    "                                 tensors=tensors)\n"
   ]
  },
  {
   "cell_type": "code",
   "execution_count": 61,
   "metadata": {},
   "outputs": [
    {
     "ename": "NameError",
     "evalue": "name 'hyper_neigh' is not defined",
     "output_type": "error",
     "traceback": [
      "\u001b[0;31m---------------------------------------------------------------------------\u001b[0m",
      "\u001b[0;31mNameError\u001b[0m                                 Traceback (most recent call last)",
      "\u001b[0;32m<ipython-input-61-ae768fcd130f>\u001b[0m in \u001b[0;36m<module>\u001b[0;34m\u001b[0m\n\u001b[0;32m----> 1\u001b[0;31m \u001b[0mhyper_neigh\u001b[0m\u001b[0;34m\u001b[0m\u001b[0;34m\u001b[0m\u001b[0m\n\u001b[0m",
      "\u001b[0;31mNameError\u001b[0m: name 'hyper_neigh' is not defined"
     ]
    }
   ],
   "source": [
    "hyper_neigh"
   ]
  },
  {
   "cell_type": "code",
   "execution_count": 821,
   "metadata": {},
   "outputs": [
    {
     "data": {
      "text/plain": [
       "15.683540828289171"
      ]
     },
     "execution_count": 821,
     "metadata": {},
     "output_type": "execute_result"
    }
   ],
   "source": [
    "hyper_distance(m, hyperbolic_embedding['Mammal'])"
   ]
  },
  {
   "cell_type": "code",
   "execution_count": 268,
   "metadata": {},
   "outputs": [],
   "source": [
    "# c_alcohol = sum(dispred[:437])/437\n",
    "# c_beaver = sum(dispred[437:437+ 194])/194\n",
    "# c_jpeg = sum(dispred[437+194:437+194+29])/29\n",
    "c_algae = sum(dispred[len(hypred)-113: len(hypred)])/112"
   ]
  },
  {
   "cell_type": "code",
   "execution_count": 269,
   "metadata": {},
   "outputs": [
    {
     "data": {
      "text/plain": [
       "([0.9994035959243774,\n",
       "  0.6316008567810059,\n",
       "  0.629362940788269,\n",
       "  0.617064893245697,\n",
       "  0.6126998662948608,\n",
       "  0.5938873291015625,\n",
       "  0.590526819229126,\n",
       "  0.5645953416824341,\n",
       "  0.5510637760162354,\n",
       "  0.5443531274795532],\n",
       " ['Plant',\n",
       "  'Conifer',\n",
       "  'Fern',\n",
       "  'Insect',\n",
       "  'FloweringPlant',\n",
       "  'Species',\n",
       "  'Fungus',\n",
       "  'Bird',\n",
       "  'CultivatedVariety',\n",
       "  'Cycad'])"
      ]
     },
     "execution_count": 269,
     "metadata": {},
     "output_type": "execute_result"
    }
   ],
   "source": [
    "hyper_neigh = find_neighbours(vector=c_algae,\n",
    "                                 model=type_embedding, \n",
    "                                 mode='t2v',\n",
    "                                 topn=10,\n",
    "                              tensors =0\n",
    "                             )\n",
    "hyper_neigh"
   ]
  }
 ],
 "metadata": {
  "kernelspec": {
   "display_name": "Python 3",
   "language": "python",
   "name": "python3"
  },
  "language_info": {
   "codemirror_mode": {
    "name": "ipython",
    "version": 3
   },
   "file_extension": ".py",
   "mimetype": "text/x-python",
   "name": "python",
   "nbconvert_exporter": "python",
   "pygments_lexer": "ipython3",
   "version": "3.6.7"
  }
 },
 "nbformat": 4,
 "nbformat_minor": 2
}
