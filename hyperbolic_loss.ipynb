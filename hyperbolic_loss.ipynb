{
 "cells": [
  {
   "cell_type": "code",
   "execution_count": 28,
   "metadata": {},
   "outputs": [],
   "source": [
    "import tensorflow as tf\n",
    "import keras.backend as K\n",
    "import keras\n",
    "from keras.layers import Input, Dense\n",
    "import numpy as np"
   ]
  },
  {
   "cell_type": "code",
   "execution_count": 23,
   "metadata": {},
   "outputs": [],
   "source": [
    "def mean_squared_error(y_true, y_pred):\n",
    "    return  K.mean(K.square(y_pred - y_true), axis = 1)"
   ]
  },
  {
   "cell_type": "code",
   "execution_count": 73,
   "metadata": {},
   "outputs": [],
   "source": [
    "def hyperbolic_loss(y_true, y_pred):    \n",
    "    num = 2 * tf.norm(y_true - y_pred, axis = 1)\n",
    "    densx = (1 - tf.norm(y_pred, axis = 1))\n",
    "    dendx = (1 - tf.norm(y_true, axis = 1))\n",
    "    denom = densx * dendx\n",
    "    clipped = tf.clip_by_value(denom,\n",
    "                               clip_value_min=0.0000001,\n",
    "                               clip_value_max=10000000)\n",
    "    frac = num/clipped\n",
    "    acos = tf.math.acosh(1  + frac)\n",
    "    acos = tf.diag(acos)\n",
    "    ret = K.mean(K.mean(acos, axis = -1))\n",
    "    mse = K.mean(tf.losses.mean_squared_error(y_true, y_pred))\n",
    "\n",
    "    return tf.where(\n",
    "        tf.reduce_any(tf.is_nan(acos)),\n",
    "        mse * 10, \n",
    "        ret)"
   ]
  },
  {
   "cell_type": "code",
   "execution_count": 66,
   "metadata": {},
   "outputs": [
    {
     "data": {
      "text/plain": [
       "9.45"
      ]
     },
     "execution_count": 66,
     "metadata": {},
     "output_type": "execute_result"
    }
   ],
   "source": [
    "a = tf.constant([[0.6, 0.1], \n",
    "               [0.2, 0.4]], dtype=float)\n",
    "b = tf.constant([[1, 2],\n",
    "               [0.3, 0.4]], dtype=float)\n",
    "K.eval(hyperbolic_loss(a, b))    "
   ]
  },
  {
   "cell_type": "code",
   "execution_count": 67,
   "metadata": {},
   "outputs": [],
   "source": [
    "from numpy.random import rand\n",
    "a = rand(5)\n",
    "b = rand(5)\n",
    "X = np.array([[x, y] for x,y in zip(a, b)])\n",
    "Y = np.array([[0.2, 0.2], \n",
    "              [0.3, 0.3],\n",
    "              [0.1, 0.1],\n",
    "              [0.15, 0.15],\n",
    "              [0.19, 0.19]])"
   ]
  },
  {
   "cell_type": "code",
   "execution_count": 80,
   "metadata": {},
   "outputs": [
    {
     "name": "stderr",
     "output_type": "stream",
     "text": [
      "/home/vmanuel/venv/lib/python3.6/site-packages/ipykernel_launcher.py:7: UserWarning: Update your `Model` call to the Keras 2 API: `Model(inputs=Tensor(\"in..., outputs=Tensor(\"de...)`\n",
      "  import sys\n"
     ]
    },
    {
     "name": "stdout",
     "output_type": "stream",
     "text": [
      "Epoch 1/20\n",
      "5/5 [==============================] - 2s 449ms/step - loss: 0.3502\n",
      "Epoch 2/20\n",
      "5/5 [==============================] - 0s 592us/step - loss: 0.3471\n",
      "Epoch 3/20\n",
      "5/5 [==============================] - 0s 596us/step - loss: 0.3441\n",
      "Epoch 4/20\n",
      "5/5 [==============================] - 0s 588us/step - loss: 0.3411\n",
      "Epoch 5/20\n",
      "5/5 [==============================] - 0s 499us/step - loss: 0.3381\n",
      "Epoch 6/20\n",
      "5/5 [==============================] - 0s 590us/step - loss: 0.3352\n",
      "Epoch 7/20\n",
      "5/5 [==============================] - 0s 499us/step - loss: 0.3323\n",
      "Epoch 8/20\n",
      "5/5 [==============================] - 0s 732us/step - loss: 0.3294\n",
      "Epoch 9/20\n",
      "5/5 [==============================] - 0s 493us/step - loss: 0.3265\n",
      "Epoch 10/20\n",
      "5/5 [==============================] - 0s 1ms/step - loss: 0.3237\n",
      "Epoch 11/20\n",
      "5/5 [==============================] - 0s 502us/step - loss: 0.3208\n",
      "Epoch 12/20\n",
      "5/5 [==============================] - 0s 636us/step - loss: 0.3180\n",
      "Epoch 13/20\n",
      "5/5 [==============================] - 0s 583us/step - loss: 0.3153\n",
      "Epoch 14/20\n",
      "5/5 [==============================] - 0s 630us/step - loss: 0.3125\n",
      "Epoch 15/20\n",
      "5/5 [==============================] - 0s 531us/step - loss: 0.3098\n",
      "Epoch 16/20\n",
      "5/5 [==============================] - 0s 633us/step - loss: 0.3071\n",
      "Epoch 17/20\n",
      "5/5 [==============================] - 0s 559us/step - loss: 0.3043\n",
      "Epoch 18/20\n",
      "5/5 [==============================] - 0s 623us/step - loss: 0.3016\n",
      "Epoch 19/20\n",
      "5/5 [==============================] - 0s 510us/step - loss: 0.2990\n",
      "Epoch 20/20\n",
      "5/5 [==============================] - 0s 628us/step - loss: 0.2963\n"
     ]
    },
    {
     "data": {
      "text/plain": [
       "<keras.callbacks.History at 0x7f10cda529b0>"
      ]
     },
     "execution_count": 80,
     "metadata": {},
     "output_type": "execute_result"
    }
   ],
   "source": [
    "from keras.models import Model\n",
    "\n",
    "inp = Input(shape=(2, ))\n",
    "net = Dense(4)(inp)\n",
    "net = Dense(2)(net)\n",
    "\n",
    "NN = Model(input=inp, output=net)\n",
    "NN.compile(optimizer='adam', loss = hyperbolic_loss)\n",
    "NN.fit(X, Y, epochs=20)"
   ]
  },
  {
   "cell_type": "code",
   "execution_count": null,
   "metadata": {},
   "outputs": [],
   "source": []
  }
 ],
 "metadata": {
  "kernelspec": {
   "display_name": "Python 3",
   "language": "python",
   "name": "python3"
  },
  "language_info": {
   "codemirror_mode": {
    "name": "ipython",
    "version": 3
   },
   "file_extension": ".py",
   "mimetype": "text/x-python",
   "name": "python",
   "nbconvert_exporter": "python",
   "pygments_lexer": "ipython3",
   "version": "3.6.7"
  }
 },
 "nbformat": 4,
 "nbformat_minor": 2
}
